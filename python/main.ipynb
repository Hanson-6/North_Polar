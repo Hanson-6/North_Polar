{
 "cells": [
  {
   "cell_type": "markdown",
   "id": "af08a6fb",
   "metadata": {},
   "source": [
    "## Import"
   ]
  },
  {
   "cell_type": "code",
   "execution_count": null,
   "id": "7595a404",
   "metadata": {},
   "outputs": [],
   "source": [
    "%load_ext autoreload\n",
    "%autoreload 2"
   ]
  },
  {
   "cell_type": "code",
   "execution_count": null,
   "id": "573610e7",
   "metadata": {},
   "outputs": [
    {
     "name": "stderr",
     "output_type": "stream",
     "text": [
      "d:\\Download\\North_Polar\\python\\annotation\\utils.py:40: SyntaxWarning: invalid escape sequence '\\m'\n",
      "  dir_path = 'python\\model\\dataset\\polygons'\n"
     ]
    }
   ],
   "source": [
    "import geemap\n",
    "\n",
    "from gee_modules.config import *\n",
    "from gee_modules.GEE import GEE\n",
    "from gee_modules.download import Downloader"
   ]
  },
  {
   "cell_type": "markdown",
   "id": "09458da2",
   "metadata": {},
   "source": [
    "## Initialization"
   ]
  },
  {
   "cell_type": "code",
   "execution_count": 4,
   "id": "07451fb0",
   "metadata": {},
   "outputs": [
    {
     "data": {
      "text/html": [
       "\n",
       "            <style>\n",
       "                .geemap-dark {\n",
       "                    --jp-widgets-color: white;\n",
       "                    --jp-widgets-label-color: white;\n",
       "                    --jp-ui-font-color1: white;\n",
       "                    --jp-layout-color2: #454545;\n",
       "                    background-color: #383838;\n",
       "                }\n",
       "\n",
       "                .geemap-dark .jupyter-button {\n",
       "                    --jp-layout-color3: #383838;\n",
       "                }\n",
       "\n",
       "                .geemap-colab {\n",
       "                    background-color: var(--colab-primary-surface-color, white);\n",
       "                }\n",
       "\n",
       "                .geemap-colab .jupyter-button {\n",
       "                    --jp-layout-color3: var(--colab-primary-surface-color, white);\n",
       "                }\n",
       "            </style>\n",
       "            "
      ],
      "text/plain": [
       "<IPython.core.display.HTML object>"
      ]
     },
     "metadata": {},
     "output_type": "display_data"
    }
   ],
   "source": [
    "users= {\n",
    "    'Liu': {\n",
    "        'project_id': 'planar-compass-462105-e3',\n",
    "        'platform_name': 'sentinel2',\n",
    "        'asset_path': 'users/liuhsuu6/',\n",
    "    }\n",
    "}\n",
    "\n",
    "config = users['Liu']"
   ]
  },
  {
   "cell_type": "code",
   "execution_count": 5,
   "id": "22f2fefb",
   "metadata": {},
   "outputs": [
    {
     "data": {
      "text/html": [
       "\n",
       "            <style>\n",
       "                .geemap-dark {\n",
       "                    --jp-widgets-color: white;\n",
       "                    --jp-widgets-label-color: white;\n",
       "                    --jp-ui-font-color1: white;\n",
       "                    --jp-layout-color2: #454545;\n",
       "                    background-color: #383838;\n",
       "                }\n",
       "\n",
       "                .geemap-dark .jupyter-button {\n",
       "                    --jp-layout-color3: #383838;\n",
       "                }\n",
       "\n",
       "                .geemap-colab {\n",
       "                    background-color: var(--colab-primary-surface-color, white);\n",
       "                }\n",
       "\n",
       "                .geemap-colab .jupyter-button {\n",
       "                    --jp-layout-color3: var(--colab-primary-surface-color, white);\n",
       "                }\n",
       "            </style>\n",
       "            "
      ],
      "text/plain": [
       "<IPython.core.display.HTML object>"
      ]
     },
     "metadata": {},
     "output_type": "display_data"
    },
    {
     "name": "stdout",
     "output_type": "stream",
     "text": [
      "✅ 成功连接到Google Earth Engine\n"
     ]
    }
   ],
   "source": [
    "gee = GEE(\n",
    "    project_id = config['project_id'],\n",
    "    platform_name = config['platform_name']\n",
    ")\n",
    "\n",
    "gmap = geemap.Map()"
   ]
  },
  {
   "cell_type": "markdown",
   "id": "17f77e1e",
   "metadata": {},
   "source": [
    "## Import Dataset"
   ]
  },
  {
   "cell_type": "code",
   "execution_count": 6,
   "id": "e2fce23d",
   "metadata": {},
   "outputs": [
    {
     "data": {
      "text/html": [
       "\n",
       "            <style>\n",
       "                .geemap-dark {\n",
       "                    --jp-widgets-color: white;\n",
       "                    --jp-widgets-label-color: white;\n",
       "                    --jp-ui-font-color1: white;\n",
       "                    --jp-layout-color2: #454545;\n",
       "                    background-color: #383838;\n",
       "                }\n",
       "\n",
       "                .geemap-dark .jupyter-button {\n",
       "                    --jp-layout-color3: #383838;\n",
       "                }\n",
       "\n",
       "                .geemap-colab {\n",
       "                    background-color: var(--colab-primary-surface-color, white);\n",
       "                }\n",
       "\n",
       "                .geemap-colab .jupyter-button {\n",
       "                    --jp-layout-color3: var(--colab-primary-surface-color, white);\n",
       "                }\n",
       "            </style>\n",
       "            "
      ],
      "text/plain": [
       "<IPython.core.display.HTML object>"
      ]
     },
     "metadata": {},
     "output_type": "display_data"
    },
    {
     "name": "stdout",
     "output_type": "stream",
     "text": [
      "Available countries are ['Alaska', 'Canada', 'Norway', 'Russia', 'Sweden'].\n"
     ]
    }
   ],
   "source": [
    "dir_path = 'model/dataset/polygons'\n",
    "dataset = gee.importData(dir_path)\n",
    "\n",
    "print(f\"Available countries are {list(dataset.keys())}.\")"
   ]
  },
  {
   "cell_type": "markdown",
   "id": "2e0e1ce3",
   "metadata": {},
   "source": [
    "## Import Sentinel 2"
   ]
  },
  {
   "cell_type": "code",
   "execution_count": 7,
   "id": "2b3f3c85",
   "metadata": {},
   "outputs": [
    {
     "data": {
      "text/html": [
       "\n",
       "            <style>\n",
       "                .geemap-dark {\n",
       "                    --jp-widgets-color: white;\n",
       "                    --jp-widgets-label-color: white;\n",
       "                    --jp-ui-font-color1: white;\n",
       "                    --jp-layout-color2: #454545;\n",
       "                    background-color: #383838;\n",
       "                }\n",
       "\n",
       "                .geemap-dark .jupyter-button {\n",
       "                    --jp-layout-color3: #383838;\n",
       "                }\n",
       "\n",
       "                .geemap-colab {\n",
       "                    background-color: var(--colab-primary-surface-color, white);\n",
       "                }\n",
       "\n",
       "                .geemap-colab .jupyter-button {\n",
       "                    --jp-layout-color3: var(--colab-primary-surface-color, white);\n",
       "                }\n",
       "            </style>\n",
       "            "
      ],
      "text/plain": [
       "<IPython.core.display.HTML object>"
      ]
     },
     "metadata": {},
     "output_type": "display_data"
    }
   ],
   "source": [
    "coords = dataset['Alaska']['coords']\n",
    "bounds = dataset['Alaska']['bounds']"
   ]
  },
  {
   "cell_type": "code",
   "execution_count": 8,
   "id": "39cf9d5b",
   "metadata": {},
   "outputs": [
    {
     "data": {
      "text/html": [
       "\n",
       "            <style>\n",
       "                .geemap-dark {\n",
       "                    --jp-widgets-color: white;\n",
       "                    --jp-widgets-label-color: white;\n",
       "                    --jp-ui-font-color1: white;\n",
       "                    --jp-layout-color2: #454545;\n",
       "                    background-color: #383838;\n",
       "                }\n",
       "\n",
       "                .geemap-dark .jupyter-button {\n",
       "                    --jp-layout-color3: #383838;\n",
       "                }\n",
       "\n",
       "                .geemap-colab {\n",
       "                    background-color: var(--colab-primary-surface-color, white);\n",
       "                }\n",
       "\n",
       "                .geemap-colab .jupyter-button {\n",
       "                    --jp-layout-color3: var(--colab-primary-surface-color, white);\n",
       "                }\n",
       "            </style>\n",
       "            "
      ],
      "text/plain": [
       "<IPython.core.display.HTML object>"
      ]
     },
     "metadata": {},
     "output_type": "display_data"
    },
    {
     "name": "stdout",
     "output_type": "stream",
     "text": [
      "开始处理 101 个区域...\n",
      "进度: 10/101\n",
      "进度: 20/101\n",
      "进度: 30/101\n",
      "进度: 40/101\n",
      "进度: 50/101\n",
      "进度: 60/101\n",
      "进度: 70/101\n",
      "进度: 80/101\n",
      "进度: 90/101\n",
      "进度: 100/101\n",
      "✅ 完成！成功处理 101/101 个区域\n"
     ]
    }
   ],
   "source": [
    "pics_list = gee.exportBunchPics(bounds,\n",
    "                                start_date='2024-06-01',\n",
    "                                end_date='2024-08-31',\n",
    "                                vis_mode='urban_false_color')"
   ]
  },
  {
   "cell_type": "markdown",
   "id": "27c84423",
   "metadata": {},
   "source": [
    "## 在GMap上展示前10个"
   ]
  },
  {
   "cell_type": "code",
   "execution_count": null,
   "id": "dd9db59b",
   "metadata": {},
   "outputs": [
    {
     "data": {
      "text/html": [
       "\n",
       "            <style>\n",
       "                .geemap-dark {\n",
       "                    --jp-widgets-color: white;\n",
       "                    --jp-widgets-label-color: white;\n",
       "                    --jp-ui-font-color1: white;\n",
       "                    --jp-layout-color2: #454545;\n",
       "                    background-color: #383838;\n",
       "                }\n",
       "\n",
       "                .geemap-dark .jupyter-button {\n",
       "                    --jp-layout-color3: #383838;\n",
       "                }\n",
       "\n",
       "                .geemap-colab {\n",
       "                    background-color: var(--colab-primary-surface-color, white);\n",
       "                }\n",
       "\n",
       "                .geemap-colab .jupyter-button {\n",
       "                    --jp-layout-color3: var(--colab-primary-surface-color, white);\n",
       "                }\n",
       "            </style>\n",
       "            "
      ],
      "text/plain": [
       "<IPython.core.display.HTML object>"
      ]
     },
     "metadata": {},
     "output_type": "display_data"
    }
   ],
   "source": [
    "for id, pic in enumerate(pics_list[:10]):\n",
    "    img = pic.get('image')\n",
    "    vis_params = pic.get('vis_params')\n",
    "    bound = pic.get('bounds')  # 获取边界信息\n",
    "    name = f\"{id}\"\n",
    "\n",
    "    gmap.addLayer(img, vis_params, name)\n",
    "    \n",
    "    gmap.centerObject(bound, 12)"
   ]
  },
  {
   "cell_type": "code",
   "execution_count": 32,
   "id": "bd363787",
   "metadata": {},
   "outputs": [
    {
     "data": {
      "text/html": [
       "\n",
       "            <style>\n",
       "                .geemap-dark {\n",
       "                    --jp-widgets-color: white;\n",
       "                    --jp-widgets-label-color: white;\n",
       "                    --jp-ui-font-color1: white;\n",
       "                    --jp-layout-color2: #454545;\n",
       "                    background-color: #383838;\n",
       "                }\n",
       "\n",
       "                .geemap-dark .jupyter-button {\n",
       "                    --jp-layout-color3: #383838;\n",
       "                }\n",
       "\n",
       "                .geemap-colab {\n",
       "                    background-color: var(--colab-primary-surface-color, white);\n",
       "                }\n",
       "\n",
       "                .geemap-colab .jupyter-button {\n",
       "                    --jp-layout-color3: var(--colab-primary-surface-color, white);\n",
       "                }\n",
       "            </style>\n",
       "            "
      ],
      "text/plain": [
       "<IPython.core.display.HTML object>"
      ]
     },
     "metadata": {},
     "output_type": "display_data"
    },
    {
     "data": {
      "application/vnd.jupyter.widget-view+json": {
       "model_id": "fa5b070d53814daf93ebe22ddabca994",
       "version_major": 2,
       "version_minor": 0
      },
      "text/plain": [
       "Map(bottom=259428.0, center=[66.92252111940613, -151.5036965000039], controls=(WidgetControl(options=['positio…"
      ]
     },
     "execution_count": 32,
     "metadata": {},
     "output_type": "execute_result"
    }
   ],
   "source": [
    "gmap"
   ]
  },
  {
   "cell_type": "code",
   "execution_count": 10,
   "id": "5cdd8121",
   "metadata": {},
   "outputs": [
    {
     "data": {
      "text/html": [
       "\n",
       "            <style>\n",
       "                .geemap-dark {\n",
       "                    --jp-widgets-color: white;\n",
       "                    --jp-widgets-label-color: white;\n",
       "                    --jp-ui-font-color1: white;\n",
       "                    --jp-layout-color2: #454545;\n",
       "                    background-color: #383838;\n",
       "                }\n",
       "\n",
       "                .geemap-dark .jupyter-button {\n",
       "                    --jp-layout-color3: #383838;\n",
       "                }\n",
       "\n",
       "                .geemap-colab {\n",
       "                    background-color: var(--colab-primary-surface-color, white);\n",
       "                }\n",
       "\n",
       "                .geemap-colab .jupyter-button {\n",
       "                    --jp-layout-color3: var(--colab-primary-surface-color, white);\n",
       "                }\n",
       "            </style>\n",
       "            "
      ],
      "text/plain": [
       "<IPython.core.display.HTML object>"
      ]
     },
     "metadata": {},
     "output_type": "display_data"
    },
    {
     "name": "stderr",
     "output_type": "stream",
     "text": [
      "2025-07-02 15:34:27,447 - INFO - 2025-07-02 开始从pics_list下载\n",
      "2025-07-02 15:34:27,447 - INFO - 总共需要下载 101 张图片\n",
      "2025-07-02 15:34:27,448 - INFO - 使用可视化模式: urban_false_color\n",
      "下载进度:   0%|          | 0/101 [00:00<?, ?it/s]2025-07-02 15:34:28,607 - INFO - 成功下载: Alaska_1.png\n",
      "下载进度:   1%|          | 1/101 [00:01<01:53,  1.13s/it]2025-07-02 15:34:29,049 - INFO - 成功下载: Alaska_0.png\n",
      "下载进度:   2%|▏         | 2/101 [00:01<01:11,  1.38it/s]2025-07-02 15:34:29,080 - INFO - 成功下载: Alaska_2.png\n",
      "2025-07-02 15:34:29,174 - INFO - 成功下载: Alaska_3.png\n",
      "下载进度:   4%|▍         | 4/101 [00:01<00:30,  3.22it/s]2025-07-02 15:34:29,366 - INFO - 成功下载: Alaska_4.png\n",
      "下载进度:   5%|▍         | 5/101 [00:01<00:26,  3.66it/s]2025-07-02 15:34:30,129 - INFO - 成功下载: Alaska_5.png\n",
      "下载进度:   6%|▌         | 6/101 [00:02<00:40,  2.36it/s]2025-07-02 15:34:30,417 - INFO - 成功下载: Alaska_8.png\n",
      "下载进度:   7%|▋         | 7/101 [00:02<00:35,  2.62it/s]2025-07-02 15:34:30,888 - INFO - 成功下载: Alaska_7.png\n",
      "下载进度:   8%|▊         | 8/101 [00:03<00:38,  2.45it/s]2025-07-02 15:34:31,127 - INFO - 成功下载: Alaska_6.png\n",
      "下载进度:   9%|▉         | 9/101 [00:03<00:32,  2.79it/s]2025-07-02 15:34:31,936 - INFO - 成功下载: Alaska_10.png\n",
      "下载进度:  10%|▉         | 10/101 [00:04<00:44,  2.02it/s]2025-07-02 15:34:32,117 - INFO - 成功下载: Alaska_11.png\n",
      "下载进度:  11%|█         | 11/101 [00:04<00:35,  2.50it/s]2025-07-02 15:34:32,583 - INFO - 成功下载: Alaska_9.png\n",
      "下载进度:  12%|█▏        | 12/101 [00:05<00:37,  2.38it/s]2025-07-02 15:34:32,836 - INFO - 成功下载: Alaska_12.png\n",
      "下载进度:  13%|█▎        | 13/101 [00:05<00:32,  2.71it/s]2025-07-02 15:34:32,976 - INFO - 成功下载: Alaska_13.png\n",
      "下载进度:  14%|█▍        | 14/101 [00:05<00:26,  3.33it/s]2025-07-02 15:34:33,864 - INFO - 成功下载: Alaska_14.png\n",
      "下载进度:  15%|█▍        | 15/101 [00:06<00:41,  2.10it/s]2025-07-02 15:34:34,585 - INFO - 成功下载: Alaska_17.png\n",
      "下载进度:  16%|█▌        | 16/101 [00:07<00:46,  1.82it/s]2025-07-02 15:34:35,313 - INFO - 成功下载: Alaska_16.png\n",
      "下载进度:  17%|█▋        | 17/101 [00:07<00:50,  1.66it/s]2025-07-02 15:34:35,504 - INFO - 成功下载: Alaska_15.png\n",
      "下载进度:  18%|█▊        | 18/101 [00:08<00:39,  2.08it/s]2025-07-02 15:34:35,809 - INFO - 成功下载: Alaska_19.png\n",
      "下载进度:  19%|█▉        | 19/101 [00:08<00:35,  2.34it/s]2025-07-02 15:34:37,013 - INFO - 成功下载: Alaska_18.png\n",
      "下载进度:  20%|█▉        | 20/101 [00:09<00:53,  1.51it/s]2025-07-02 15:34:38,137 - INFO - 成功下载: Alaska_20.png\n",
      "下载进度:  21%|██        | 21/101 [00:10<01:03,  1.25it/s]2025-07-02 15:34:39,416 - INFO - 成功下载: Alaska_24.png\n",
      "下载进度:  22%|██▏       | 22/101 [00:11<01:14,  1.06it/s]2025-07-02 15:34:40,034 - INFO - 成功下载: Alaska_23.png\n",
      "下载进度:  23%|██▎       | 23/101 [00:12<01:05,  1.18it/s]2025-07-02 15:34:41,600 - INFO - 成功下载: Alaska_21.png\n",
      "下载进度:  24%|██▍       | 24/101 [00:14<01:21,  1.06s/it]2025-07-02 15:34:41,692 - INFO - 成功下载: Alaska_22.png\n",
      "2025-07-02 15:34:41,890 - INFO - 成功下载: Alaska_25.png\n",
      "下载进度:  26%|██▌       | 26/101 [00:14<00:47,  1.57it/s]2025-07-02 15:34:42,156 - INFO - 成功下载: Alaska_26.png\n",
      "下载进度:  27%|██▋       | 27/101 [00:14<00:40,  1.83it/s]2025-07-02 15:34:42,516 - INFO - 成功下载: Alaska_27.png\n",
      "下载进度:  28%|██▊       | 28/101 [00:15<00:36,  2.01it/s]2025-07-02 15:34:44,030 - INFO - 成功下载: Alaska_30.png\n",
      "下载进度:  29%|██▊       | 29/101 [00:16<00:55,  1.29it/s]2025-07-02 15:34:44,558 - INFO - 成功下载: Alaska_28.png\n",
      "下载进度:  30%|██▉       | 30/101 [00:17<00:50,  1.42it/s]2025-07-02 15:34:44,820 - INFO - 成功下载: Alaska_31.png\n",
      "下载进度:  31%|███       | 31/101 [00:17<00:40,  1.73it/s]2025-07-02 15:34:45,097 - INFO - 成功下载: Alaska_29.png\n",
      "下载进度:  32%|███▏      | 32/101 [00:17<00:33,  2.04it/s]2025-07-02 15:34:45,934 - INFO - 成功下载: Alaska_33.png\n",
      "下载进度:  33%|███▎      | 33/101 [00:18<00:40,  1.69it/s]2025-07-02 15:34:46,042 - INFO - 成功下载: Alaska_32.png\n",
      "下载进度:  34%|███▎      | 34/101 [00:18<00:30,  2.22it/s]2025-07-02 15:34:46,695 - INFO - 成功下载: Alaska_35.png\n",
      "下载进度:  35%|███▍      | 35/101 [00:19<00:33,  1.96it/s]2025-07-02 15:34:46,912 - INFO - 成功下载: Alaska_36.png\n",
      "下载进度:  36%|███▌      | 36/101 [00:19<00:27,  2.36it/s]2025-07-02 15:34:46,931 - INFO - 成功下载: Alaska_34.png\n",
      "2025-07-02 15:34:48,975 - INFO - 成功下载: Alaska_40.png\n",
      "下载进度:  38%|███▊      | 38/101 [00:21<00:44,  1.42it/s]2025-07-02 15:34:49,321 - INFO - 成功下载: Alaska_38.png\n",
      "下载进度:  39%|███▊      | 39/101 [00:21<00:38,  1.63it/s]2025-07-02 15:34:49,430 - INFO - 成功下载: Alaska_41.png\n",
      "下载进度:  40%|███▉      | 40/101 [00:21<00:29,  2.07it/s]2025-07-02 15:34:51,135 - INFO - 成功下载: Alaska_39.png\n",
      "下载进度:  41%|████      | 41/101 [00:23<00:48,  1.23it/s]2025-07-02 15:34:51,331 - INFO - 成功下载: Alaska_44.png\n",
      "下载进度:  42%|████▏     | 42/101 [00:23<00:37,  1.56it/s]2025-07-02 15:34:51,542 - INFO - 成功下载: Alaska_42.png\n",
      "下载进度:  43%|████▎     | 43/101 [00:24<00:30,  1.93it/s]2025-07-02 15:34:52,572 - INFO - 成功下载: Alaska_43.png\n",
      "下载进度:  44%|████▎     | 44/101 [00:25<00:38,  1.50it/s]2025-07-02 15:34:52,817 - INFO - 成功下载: Alaska_46.png\n",
      "下载进度:  45%|████▍     | 45/101 [00:25<00:30,  1.84it/s]2025-07-02 15:34:52,867 - INFO - 成功下载: Alaska_45.png\n",
      "2025-07-02 15:34:53,803 - INFO - 成功下载: Alaska_48.png\n",
      "下载进度:  47%|████▋     | 47/101 [00:26<00:28,  1.92it/s]2025-07-02 15:34:54,075 - INFO - 成功下载: Alaska_47.png\n",
      "下载进度:  48%|████▊     | 48/101 [00:26<00:24,  2.18it/s]2025-07-02 15:34:54,317 - INFO - 成功下载: Alaska_49.png\n",
      "下载进度:  49%|████▊     | 49/101 [00:26<00:20,  2.48it/s]2025-07-02 15:34:54,489 - INFO - 成功下载: Alaska_50.png\n",
      "下载进度:  50%|████▉     | 50/101 [00:27<00:17,  2.94it/s]2025-07-02 15:34:55,816 - INFO - 成功下载: Alaska_52.png\n",
      "下载进度:  50%|█████     | 51/101 [00:28<00:30,  1.62it/s]2025-07-02 15:34:56,035 - INFO - 成功下载: Alaska_51.png\n",
      "下载进度:  51%|█████▏    | 52/101 [00:28<00:24,  1.99it/s]2025-07-02 15:34:56,070 - INFO - 成功下载: Alaska_53.png\n",
      "2025-07-02 15:34:57,894 - INFO - 成功下载: Alaska_57.png\n",
      "下载进度:  53%|█████▎    | 54/101 [00:30<00:32,  1.44it/s]2025-07-02 15:35:07,304 - INFO - 成功下载: Alaska_55.png\n",
      "下载进度:  54%|█████▍    | 55/101 [00:39<02:09,  2.81s/it]2025-07-02 15:35:07,631 - INFO - 成功下载: Alaska_58.png\n",
      "下载进度:  55%|█████▌    | 56/101 [00:40<01:37,  2.17s/it]2025-07-02 15:35:07,649 - INFO - 成功下载: Alaska_56.png\n",
      "2025-07-02 15:35:09,008 - INFO - 成功下载: Alaska_59.png\n",
      "下载进度:  57%|█████▋    | 58/101 [00:41<01:06,  1.54s/it]2025-07-02 15:35:09,547 - INFO - 成功下载: Alaska_60.png\n",
      "下载进度:  58%|█████▊    | 59/101 [00:42<00:54,  1.31s/it]2025-07-02 15:35:09,567 - INFO - 成功下载: Alaska_61.png\n",
      "2025-07-02 15:35:10,774 - INFO - 成功下载: Alaska_62.png\n",
      "下载进度:  60%|██████    | 61/101 [00:43<00:41,  1.03s/it]2025-07-02 15:35:11,120 - INFO - 成功下载: Alaska_64.png\n",
      "下载进度:  61%|██████▏   | 62/101 [00:43<00:34,  1.14it/s]2025-07-02 15:35:11,481 - INFO - 成功下载: Alaska_63.png\n",
      "下载进度:  62%|██████▏   | 63/101 [00:44<00:28,  1.32it/s]2025-07-02 15:35:12,695 - INFO - 成功下载: Alaska_65.png\n",
      "下载进度:  63%|██████▎   | 64/101 [00:45<00:32,  1.15it/s]2025-07-02 15:35:13,051 - INFO - 成功下载: Alaska_66.png\n",
      "下载进度:  64%|██████▍   | 65/101 [00:45<00:26,  1.36it/s]2025-07-02 15:35:13,199 - INFO - 成功下载: Alaska_67.png\n",
      "下载进度:  65%|██████▌   | 66/101 [00:45<00:20,  1.75it/s]2025-07-02 15:35:14,435 - INFO - 成功下载: Alaska_68.png\n",
      "下载进度:  66%|██████▋   | 67/101 [00:46<00:25,  1.32it/s]2025-07-02 15:35:14,800 - INFO - 成功下载: Alaska_70.png\n",
      "下载进度:  67%|██████▋   | 68/101 [00:47<00:21,  1.55it/s]2025-07-02 15:35:14,956 - INFO - 成功下载: Alaska_69.png\n",
      "下载进度:  68%|██████▊   | 69/101 [00:47<00:16,  1.99it/s]2025-07-02 15:35:16,181 - INFO - 成功下载: Alaska_71.png\n",
      "下载进度:  69%|██████▉   | 70/101 [00:48<00:22,  1.40it/s]2025-07-02 15:35:16,424 - INFO - 成功下载: Alaska_73.png\n",
      "下载进度:  70%|███████   | 71/101 [00:48<00:17,  1.74it/s]2025-07-02 15:35:16,868 - INFO - 成功下载: Alaska_72.png\n",
      "下载进度:  71%|███████▏  | 72/101 [00:49<00:15,  1.86it/s]2025-07-02 15:35:18,504 - INFO - 成功下载: Alaska_75.png\n",
      "下载进度:  72%|███████▏  | 73/101 [00:51<00:24,  1.16it/s]2025-07-02 15:35:18,688 - INFO - 成功下载: Alaska_74.png\n",
      "下载进度:  73%|███████▎  | 74/101 [00:51<00:17,  1.51it/s]2025-07-02 15:35:18,962 - INFO - 成功下载: Alaska_76.png\n",
      "下载进度:  74%|███████▍  | 75/101 [00:51<00:14,  1.83it/s]2025-07-02 15:35:19,208 - INFO - 成功下载: Alaska_37.png\n",
      "下载进度:  75%|███████▌  | 76/101 [00:51<00:11,  2.19it/s]2025-07-02 15:35:20,784 - INFO - 成功下载: Alaska_77.png\n",
      "下载进度:  76%|███████▌  | 77/101 [00:53<00:18,  1.26it/s]2025-07-02 15:35:21,013 - INFO - 成功下载: Alaska_78.png\n",
      "下载进度:  77%|███████▋  | 78/101 [00:53<00:14,  1.61it/s]2025-07-02 15:35:21,093 - INFO - 成功下载: Alaska_80.png\n",
      "2025-07-02 15:35:21,720 - INFO - 成功下载: Alaska_79.png\n",
      "下载进度:  79%|███████▉  | 80/101 [00:54<00:10,  2.01it/s]2025-07-02 15:35:22,553 - INFO - 成功下载: Alaska_83.png\n",
      "下载进度:  80%|████████  | 81/101 [00:55<00:11,  1.72it/s]2025-07-02 15:35:22,565 - INFO - 成功下载: Alaska_82.png\n",
      "2025-07-02 15:35:23,171 - INFO - 成功下载: Alaska_81.png\n",
      "下载进度:  82%|████████▏ | 83/101 [00:55<00:08,  2.13it/s]2025-07-02 15:35:23,705 - INFO - 成功下载: Alaska_84.png\n",
      "下载进度:  83%|████████▎ | 84/101 [00:56<00:08,  2.07it/s]2025-07-02 15:35:23,794 - INFO - 成功下载: Alaska_86.png\n",
      "2025-07-02 15:35:24,265 - INFO - 成功下载: Alaska_85.png\n",
      "下载进度:  85%|████████▌ | 86/101 [00:56<00:06,  2.48it/s]2025-07-02 15:35:25,079 - INFO - 成功下载: Alaska_87.png\n",
      "下载进度:  86%|████████▌ | 87/101 [00:57<00:06,  2.03it/s]2025-07-02 15:35:25,085 - INFO - 成功下载: Alaska_88.png\n",
      "2025-07-02 15:35:26,681 - INFO - 成功下载: Alaska_90.png\n",
      "下载进度:  88%|████████▊ | 89/101 [00:59<00:07,  1.63it/s]2025-07-02 15:35:26,695 - INFO - 成功下载: Alaska_89.png\n",
      "2025-07-02 15:35:27,285 - INFO - 成功下载: Alaska_91.png\n",
      "下载进度:  90%|█████████ | 91/101 [00:59<00:05,  1.99it/s]2025-07-02 15:35:27,684 - INFO - 成功下载: Alaska_54.png\n",
      "下载进度:  91%|█████████ | 92/101 [01:00<00:04,  2.08it/s]2025-07-02 15:35:28,095 - INFO - 成功下载: Alaska_92.png\n",
      "下载进度:  92%|█████████▏| 93/101 [01:00<00:03,  2.15it/s]2025-07-02 15:35:28,153 - INFO - 成功下载: Alaska_93.png\n",
      "2025-07-02 15:35:28,334 - INFO - 成功下载: Alaska_94.png\n",
      "下载进度:  94%|█████████▍| 95/101 [01:00<00:01,  3.03it/s]2025-07-02 15:35:28,892 - INFO - 成功下载: Alaska_95.png\n",
      "下载进度:  95%|█████████▌| 96/101 [01:01<00:01,  2.63it/s]2025-07-02 15:35:29,520 - INFO - 成功下载: Alaska_97.png\n",
      "下载进度:  96%|█████████▌| 97/101 [01:02<00:01,  2.28it/s]2025-07-02 15:35:29,646 - INFO - 成功下载: Alaska_98.png\n",
      "下载进度:  97%|█████████▋| 98/101 [01:02<00:01,  2.78it/s]2025-07-02 15:35:31,859 - INFO - 成功下载: Alaska_96.png\n",
      "下载进度:  98%|█████████▊| 99/101 [01:04<00:01,  1.17it/s]2025-07-02 15:35:31,870 - INFO - 成功下载: Alaska_99.png\n",
      "2025-07-02 15:35:32,872 - INFO - 成功下载: Alaska_100.png\n",
      "下载进度: 100%|██████████| 101/101 [01:05<00:00,  1.54it/s]\n",
      "2025-07-02 15:35:32,875 - INFO - \n",
      "下载完成！成功: 101, 失败: 0\n"
     ]
    },
    {
     "data": {
      "text/plain": [
       "{'success': 101, 'failed': 0, 'total': 101}"
      ]
     },
     "execution_count": 10,
     "metadata": {},
     "output_type": "execute_result"
    }
   ],
   "source": [
    "Alaska = Downloader(gee,\n",
    "                    country='Alaska')\n",
    "Alaska.download_from_pics_list(pics_list, output_size=(256, 256))"
   ]
  },
  {
   "cell_type": "markdown",
   "id": "ced0ac90",
   "metadata": {},
   "source": [
    "## Show Features on GMap"
   ]
  },
  {
   "cell_type": "code",
   "execution_count": 22,
   "id": "a9eebea2",
   "metadata": {},
   "outputs": [
    {
     "data": {
      "text/html": [
       "\n",
       "            <style>\n",
       "                .geemap-dark {\n",
       "                    --jp-widgets-color: white;\n",
       "                    --jp-widgets-label-color: white;\n",
       "                    --jp-ui-font-color1: white;\n",
       "                    --jp-layout-color2: #454545;\n",
       "                    background-color: #383838;\n",
       "                }\n",
       "\n",
       "                .geemap-dark .jupyter-button {\n",
       "                    --jp-layout-color3: #383838;\n",
       "                }\n",
       "\n",
       "                .geemap-colab {\n",
       "                    background-color: var(--colab-primary-surface-color, white);\n",
       "                }\n",
       "\n",
       "                .geemap-colab .jupyter-button {\n",
       "                    --jp-layout-color3: var(--colab-primary-surface-color, white);\n",
       "                }\n",
       "            </style>\n",
       "            "
      ],
      "text/plain": [
       "<IPython.core.display.HTML object>"
      ]
     },
     "metadata": {},
     "output_type": "display_data"
    }
   ],
   "source": [
    "gmap.addLayer(\n",
    "    bounds\n",
    ")"
   ]
  },
  {
   "cell_type": "code",
   "execution_count": 23,
   "id": "d288947a",
   "metadata": {},
   "outputs": [
    {
     "data": {
      "text/html": [
       "\n",
       "            <style>\n",
       "                .geemap-dark {\n",
       "                    --jp-widgets-color: white;\n",
       "                    --jp-widgets-label-color: white;\n",
       "                    --jp-ui-font-color1: white;\n",
       "                    --jp-layout-color2: #454545;\n",
       "                    background-color: #383838;\n",
       "                }\n",
       "\n",
       "                .geemap-dark .jupyter-button {\n",
       "                    --jp-layout-color3: #383838;\n",
       "                }\n",
       "\n",
       "                .geemap-colab {\n",
       "                    background-color: var(--colab-primary-surface-color, white);\n",
       "                }\n",
       "\n",
       "                .geemap-colab .jupyter-button {\n",
       "                    --jp-layout-color3: var(--colab-primary-surface-color, white);\n",
       "                }\n",
       "            </style>\n",
       "            "
      ],
      "text/plain": [
       "<IPython.core.display.HTML object>"
      ]
     },
     "metadata": {},
     "output_type": "display_data"
    },
    {
     "data": {
      "application/vnd.jupyter.widget-view+json": {
       "model_id": "3a0b009a496748ba84c5338c43abe224",
       "version_major": 2,
       "version_minor": 0
      },
      "text/plain": [
       "Map(center=[0, 0], controls=(WidgetControl(options=['position', 'transparent_bg'], widget=SearchDataGUI(childr…"
      ]
     },
     "execution_count": 23,
     "metadata": {},
     "output_type": "execute_result"
    }
   ],
   "source": [
    "gmap"
   ]
  },
  {
   "cell_type": "markdown",
   "id": "751b7111",
   "metadata": {},
   "source": [
    "### Sentinel-2"
   ]
  }
 ],
 "metadata": {
  "kernelspec": {
   "display_name": "Python 3",
   "language": "python",
   "name": "python3"
  },
  "language_info": {
   "codemirror_mode": {
    "name": "ipython",
    "version": 3
   },
   "file_extension": ".py",
   "mimetype": "text/x-python",
   "name": "python",
   "nbconvert_exporter": "python",
   "pygments_lexer": "ipython3",
   "version": "3.13.0"
  }
 },
 "nbformat": 4,
 "nbformat_minor": 5
}
