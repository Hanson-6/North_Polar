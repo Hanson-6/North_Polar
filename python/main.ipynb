{
 "cells": [
  {
   "cell_type": "markdown",
   "id": "af08a6fb",
   "metadata": {},
   "source": [
    "## Import"
   ]
  },
  {
   "cell_type": "code",
   "execution_count": 1,
   "id": "7595a404",
   "metadata": {},
   "outputs": [],
   "source": [
    "%load_ext autoreload\n",
    "%autoreload 2"
   ]
  },
  {
   "cell_type": "code",
   "execution_count": 2,
   "id": "573610e7",
   "metadata": {},
   "outputs": [],
   "source": [
    "import geemap\n",
    "\n",
    "from gee_modules.config import *\n",
    "from gee_modules.GEE import GEE\n",
    "from gee_modules.download import Downloader"
   ]
  },
  {
   "cell_type": "markdown",
   "id": "09458da2",
   "metadata": {},
   "source": [
    "## Initialization"
   ]
  },
  {
   "cell_type": "code",
   "execution_count": 3,
   "id": "07451fb0",
   "metadata": {},
   "outputs": [
    {
     "data": {
      "text/html": [
       "\n",
       "            <style>\n",
       "                .geemap-dark {\n",
       "                    --jp-widgets-color: white;\n",
       "                    --jp-widgets-label-color: white;\n",
       "                    --jp-ui-font-color1: white;\n",
       "                    --jp-layout-color2: #454545;\n",
       "                    background-color: #383838;\n",
       "                }\n",
       "\n",
       "                .geemap-dark .jupyter-button {\n",
       "                    --jp-layout-color3: #383838;\n",
       "                }\n",
       "\n",
       "                .geemap-colab {\n",
       "                    background-color: var(--colab-primary-surface-color, white);\n",
       "                }\n",
       "\n",
       "                .geemap-colab .jupyter-button {\n",
       "                    --jp-layout-color3: var(--colab-primary-surface-color, white);\n",
       "                }\n",
       "            </style>\n",
       "            "
      ],
      "text/plain": [
       "<IPython.core.display.HTML object>"
      ]
     },
     "metadata": {},
     "output_type": "display_data"
    }
   ],
   "source": [
    "users= {\n",
    "    'Liu': {\n",
    "        'project_id': 'planar-compass-462105-e3',\n",
    "        'platform_name': 'sentinel2',\n",
    "        'asset_path': 'users/liuhsuu6/',\n",
    "    }\n",
    "}\n",
    "\n",
    "config = users['Liu']"
   ]
  },
  {
   "cell_type": "code",
   "execution_count": 4,
   "id": "22f2fefb",
   "metadata": {},
   "outputs": [
    {
     "data": {
      "text/html": [
       "\n",
       "            <style>\n",
       "                .geemap-dark {\n",
       "                    --jp-widgets-color: white;\n",
       "                    --jp-widgets-label-color: white;\n",
       "                    --jp-ui-font-color1: white;\n",
       "                    --jp-layout-color2: #454545;\n",
       "                    background-color: #383838;\n",
       "                }\n",
       "\n",
       "                .geemap-dark .jupyter-button {\n",
       "                    --jp-layout-color3: #383838;\n",
       "                }\n",
       "\n",
       "                .geemap-colab {\n",
       "                    background-color: var(--colab-primary-surface-color, white);\n",
       "                }\n",
       "\n",
       "                .geemap-colab .jupyter-button {\n",
       "                    --jp-layout-color3: var(--colab-primary-surface-color, white);\n",
       "                }\n",
       "            </style>\n",
       "            "
      ],
      "text/plain": [
       "<IPython.core.display.HTML object>"
      ]
     },
     "metadata": {},
     "output_type": "display_data"
    },
    {
     "name": "stdout",
     "output_type": "stream",
     "text": [
      "✅ 成功连接到Google Earth Engine\n"
     ]
    }
   ],
   "source": [
    "gee = GEE(\n",
    "    project_id = config['project_id'],\n",
    "    platform_name = config['platform_name']\n",
    ")\n",
    "\n",
    "gmap = geemap.Map()"
   ]
  },
  {
   "cell_type": "markdown",
   "id": "17f77e1e",
   "metadata": {},
   "source": [
    "## Import Dataset"
   ]
  },
  {
   "cell_type": "code",
   "execution_count": 7,
   "id": "e2fce23d",
   "metadata": {},
   "outputs": [
    {
     "data": {
      "text/html": [
       "\n",
       "            <style>\n",
       "                .geemap-dark {\n",
       "                    --jp-widgets-color: white;\n",
       "                    --jp-widgets-label-color: white;\n",
       "                    --jp-ui-font-color1: white;\n",
       "                    --jp-layout-color2: #454545;\n",
       "                    background-color: #383838;\n",
       "                }\n",
       "\n",
       "                .geemap-dark .jupyter-button {\n",
       "                    --jp-layout-color3: #383838;\n",
       "                }\n",
       "\n",
       "                .geemap-colab {\n",
       "                    background-color: var(--colab-primary-surface-color, white);\n",
       "                }\n",
       "\n",
       "                .geemap-colab .jupyter-button {\n",
       "                    --jp-layout-color3: var(--colab-primary-surface-color, white);\n",
       "                }\n",
       "            </style>\n",
       "            "
      ],
      "text/plain": [
       "<IPython.core.display.HTML object>"
      ]
     },
     "metadata": {},
     "output_type": "display_data"
    },
    {
     "name": "stdout",
     "output_type": "stream",
     "text": [
      "Available countries are ['Alaska', 'Canada', 'Norway', 'Russia', 'Sweden'].\n"
     ]
    }
   ],
   "source": [
    "dir_path = 'model/dataset/polygons'\n",
    "dataset = gee.importData(dir_path)\n",
    "\n",
    "print(f\"Available countries are {list(dataset.keys())}.\")"
   ]
  },
  {
   "cell_type": "markdown",
   "id": "2e0e1ce3",
   "metadata": {},
   "source": [
    "## Download"
   ]
  },
  {
   "cell_type": "code",
   "execution_count": 17,
   "id": "2b3f3c85",
   "metadata": {},
   "outputs": [
    {
     "data": {
      "text/html": [
       "\n",
       "            <style>\n",
       "                .geemap-dark {\n",
       "                    --jp-widgets-color: white;\n",
       "                    --jp-widgets-label-color: white;\n",
       "                    --jp-ui-font-color1: white;\n",
       "                    --jp-layout-color2: #454545;\n",
       "                    background-color: #383838;\n",
       "                }\n",
       "\n",
       "                .geemap-dark .jupyter-button {\n",
       "                    --jp-layout-color3: #383838;\n",
       "                }\n",
       "\n",
       "                .geemap-colab {\n",
       "                    background-color: var(--colab-primary-surface-color, white);\n",
       "                }\n",
       "\n",
       "                .geemap-colab .jupyter-button {\n",
       "                    --jp-layout-color3: var(--colab-primary-surface-color, white);\n",
       "                }\n",
       "            </style>\n",
       "            "
      ],
      "text/plain": [
       "<IPython.core.display.HTML object>"
      ]
     },
     "metadata": {},
     "output_type": "display_data"
    }
   ],
   "source": [
    "coords = dataset['Alaska']['coords']\n",
    "bounds = dataset['Alaska']['bounds']"
   ]
  },
  {
   "cell_type": "code",
   "execution_count": 18,
   "id": "39cf9d5b",
   "metadata": {},
   "outputs": [
    {
     "data": {
      "text/html": [
       "\n",
       "            <style>\n",
       "                .geemap-dark {\n",
       "                    --jp-widgets-color: white;\n",
       "                    --jp-widgets-label-color: white;\n",
       "                    --jp-ui-font-color1: white;\n",
       "                    --jp-layout-color2: #454545;\n",
       "                    background-color: #383838;\n",
       "                }\n",
       "\n",
       "                .geemap-dark .jupyter-button {\n",
       "                    --jp-layout-color3: #383838;\n",
       "                }\n",
       "\n",
       "                .geemap-colab {\n",
       "                    background-color: var(--colab-primary-surface-color, white);\n",
       "                }\n",
       "\n",
       "                .geemap-colab .jupyter-button {\n",
       "                    --jp-layout-color3: var(--colab-primary-surface-color, white);\n",
       "                }\n",
       "            </style>\n",
       "            "
      ],
      "text/plain": [
       "<IPython.core.display.HTML object>"
      ]
     },
     "metadata": {},
     "output_type": "display_data"
    },
    {
     "name": "stdout",
     "output_type": "stream",
     "text": [
      "开始处理 101 个区域...\n",
      "进度: 10/101\n",
      "进度: 20/101\n",
      "进度: 30/101\n",
      "进度: 40/101\n",
      "进度: 50/101\n",
      "进度: 60/101\n",
      "进度: 70/101\n",
      "进度: 80/101\n",
      "进度: 90/101\n",
      "进度: 100/101\n",
      "✅ 完成！成功处理 101/101 个区域\n"
     ]
    }
   ],
   "source": [
    "pics_list = gee.exportBunchPics(bounds,\n",
    "                                start_date='2024-06-01',\n",
    "                                end_date='2024-08-31',\n",
    "                                vis_mode='urban_false_color')"
   ]
  },
  {
   "cell_type": "code",
   "execution_count": 33,
   "id": "dd9db59b",
   "metadata": {},
   "outputs": [
    {
     "data": {
      "text/html": [
       "\n",
       "            <style>\n",
       "                .geemap-dark {\n",
       "                    --jp-widgets-color: white;\n",
       "                    --jp-widgets-label-color: white;\n",
       "                    --jp-ui-font-color1: white;\n",
       "                    --jp-layout-color2: #454545;\n",
       "                    background-color: #383838;\n",
       "                }\n",
       "\n",
       "                .geemap-dark .jupyter-button {\n",
       "                    --jp-layout-color3: #383838;\n",
       "                }\n",
       "\n",
       "                .geemap-colab {\n",
       "                    background-color: var(--colab-primary-surface-color, white);\n",
       "                }\n",
       "\n",
       "                .geemap-colab .jupyter-button {\n",
       "                    --jp-layout-color3: var(--colab-primary-surface-color, white);\n",
       "                }\n",
       "            </style>\n",
       "            "
      ],
      "text/plain": [
       "<IPython.core.display.HTML object>"
      ]
     },
     "metadata": {},
     "output_type": "display_data"
    }
   ],
   "source": [
    "for id, pic in enumerate(pics_list[:20]):\n",
    "    img = pic.get('image')\n",
    "    vis_params = pic.get('vis_params')\n",
    "    bounds = pic.get('bounds')  # 获取边界信息\n",
    "    name = f\"{id}\"\n",
    "\n",
    "    gmap.addLayer(img, vis_params, name)\n",
    "    \n",
    "    gmap.centerObject(bounds, 12)"
   ]
  },
  {
   "cell_type": "code",
   "execution_count": 32,
   "id": "bd363787",
   "metadata": {},
   "outputs": [
    {
     "data": {
      "text/html": [
       "\n",
       "            <style>\n",
       "                .geemap-dark {\n",
       "                    --jp-widgets-color: white;\n",
       "                    --jp-widgets-label-color: white;\n",
       "                    --jp-ui-font-color1: white;\n",
       "                    --jp-layout-color2: #454545;\n",
       "                    background-color: #383838;\n",
       "                }\n",
       "\n",
       "                .geemap-dark .jupyter-button {\n",
       "                    --jp-layout-color3: #383838;\n",
       "                }\n",
       "\n",
       "                .geemap-colab {\n",
       "                    background-color: var(--colab-primary-surface-color, white);\n",
       "                }\n",
       "\n",
       "                .geemap-colab .jupyter-button {\n",
       "                    --jp-layout-color3: var(--colab-primary-surface-color, white);\n",
       "                }\n",
       "            </style>\n",
       "            "
      ],
      "text/plain": [
       "<IPython.core.display.HTML object>"
      ]
     },
     "metadata": {},
     "output_type": "display_data"
    },
    {
     "data": {
      "application/vnd.jupyter.widget-view+json": {
       "model_id": "fa5b070d53814daf93ebe22ddabca994",
       "version_major": 2,
       "version_minor": 0
      },
      "text/plain": [
       "Map(bottom=259428.0, center=[66.92252111940613, -151.5036965000039], controls=(WidgetControl(options=['positio…"
      ]
     },
     "execution_count": 32,
     "metadata": {},
     "output_type": "execute_result"
    }
   ],
   "source": [
    "gmap"
   ]
  },
  {
   "cell_type": "code",
   "execution_count": 20,
   "id": "5cdd8121",
   "metadata": {},
   "outputs": [
    {
     "data": {
      "text/html": [
       "\n",
       "            <style>\n",
       "                .geemap-dark {\n",
       "                    --jp-widgets-color: white;\n",
       "                    --jp-widgets-label-color: white;\n",
       "                    --jp-ui-font-color1: white;\n",
       "                    --jp-layout-color2: #454545;\n",
       "                    background-color: #383838;\n",
       "                }\n",
       "\n",
       "                .geemap-dark .jupyter-button {\n",
       "                    --jp-layout-color3: #383838;\n",
       "                }\n",
       "\n",
       "                .geemap-colab {\n",
       "                    background-color: var(--colab-primary-surface-color, white);\n",
       "                }\n",
       "\n",
       "                .geemap-colab .jupyter-button {\n",
       "                    --jp-layout-color3: var(--colab-primary-surface-color, white);\n",
       "                }\n",
       "            </style>\n",
       "            "
      ],
      "text/plain": [
       "<IPython.core.display.HTML object>"
      ]
     },
     "metadata": {},
     "output_type": "display_data"
    },
    {
     "name": "stderr",
     "output_type": "stream",
     "text": [
      "2025-07-01 16:50:11,623 - INFO - 2025-07-01 开始下载\n",
      "2025-07-01 16:50:12,261 - INFO - 总共需要下载 101 张图片\n",
      "下载进度:   0%|          | 0/101 [00:00<?, ?it/s]2025-07-01 16:50:15,633 - INFO - 成功下载: Alaska_4.png\n",
      "下载进度:   1%|          | 1/101 [00:03<05:34,  3.35s/it]2025-07-01 16:50:15,777 - INFO - 成功下载: Alaska_1.png\n",
      "下载进度:   2%|▏         | 2/101 [00:03<02:24,  1.46s/it]2025-07-01 16:50:16,037 - INFO - 成功下载: Alaska_2.png\n",
      "下载进度:   3%|▎         | 3/101 [00:03<01:29,  1.09it/s]2025-07-01 16:50:16,989 - INFO - 成功下载: Alaska_0.png\n",
      "下载进度:   4%|▍         | 4/101 [00:04<01:30,  1.08it/s]2025-07-01 16:50:18,210 - INFO - 成功下载: Alaska_3.png\n",
      "下载进度:   5%|▍         | 5/101 [00:05<01:39,  1.03s/it]2025-07-01 16:50:18,387 - INFO - 成功下载: Alaska_7.png\n",
      "下载进度:   6%|▌         | 6/101 [00:06<01:10,  1.35it/s]2025-07-01 16:50:18,419 - INFO - 成功下载: Alaska_6.png\n",
      "2025-07-01 16:50:18,749 - INFO - 成功下载: Alaska_5.png\n",
      "下载进度:   8%|▊         | 8/101 [00:06<00:43,  2.15it/s]2025-07-01 16:50:19,923 - INFO - 成功下载: Alaska_8.png\n",
      "下载进度:   9%|▉         | 9/101 [00:07<00:59,  1.54it/s]2025-07-01 16:50:23,361 - INFO - 成功下载: Alaska_12.png\n",
      "下载进度:  10%|▉         | 10/101 [00:11<02:07,  1.41s/it]2025-07-01 16:50:23,536 - INFO - 成功下载: Alaska_10.png\n",
      "下载进度:  11%|█         | 11/101 [00:11<01:35,  1.06s/it]2025-07-01 16:50:24,633 - INFO - 成功下载: Alaska_9.png\n",
      "下载进度:  12%|█▏        | 12/101 [00:12<01:35,  1.07s/it]2025-07-01 16:50:24,669 - INFO - 成功下载: Alaska_13.png\n",
      "2025-07-01 16:50:26,716 - INFO - 成功下载: Alaska_11.png\n",
      "下载进度:  14%|█▍        | 14/101 [00:14<01:32,  1.06s/it]2025-07-01 16:50:27,207 - INFO - 成功下载: Alaska_15.png\n",
      "下载进度:  15%|█▍        | 15/101 [00:14<01:19,  1.09it/s]2025-07-01 16:50:28,222 - INFO - 成功下载: Alaska_16.png\n",
      "下载进度:  16%|█▌        | 16/101 [00:15<01:20,  1.06it/s]2025-07-01 16:50:28,624 - INFO - 成功下载: Alaska_17.png\n",
      "下载进度:  17%|█▋        | 17/101 [00:16<01:07,  1.25it/s]2025-07-01 16:50:28,910 - INFO - 成功下载: Alaska_14.png\n",
      "下载进度:  18%|█▊        | 18/101 [00:16<00:54,  1.52it/s]2025-07-01 16:50:31,320 - INFO - 成功下载: Alaska_19.png\n",
      "下载进度:  19%|█▉        | 19/101 [00:19<01:34,  1.15s/it]2025-07-01 16:50:32,510 - INFO - 成功下载: Alaska_18.png\n",
      "下载进度:  20%|█▉        | 20/101 [00:20<01:34,  1.16s/it]2025-07-01 16:50:34,502 - INFO - 成功下载: Alaska_20.png\n",
      "下载进度:  21%|██        | 21/101 [00:22<01:52,  1.41s/it]2025-07-01 16:50:35,954 - INFO - 成功下载: Alaska_21.png\n",
      "下载进度:  22%|██▏       | 22/101 [00:23<01:52,  1.42s/it]2025-07-01 16:50:36,253 - INFO - 成功下载: Alaska_23.png\n",
      "下载进度:  23%|██▎       | 23/101 [00:23<01:24,  1.09s/it]2025-07-01 16:50:36,698 - INFO - 成功下载: Alaska_22.png\n",
      "下载进度:  24%|██▍       | 24/101 [00:24<01:09,  1.11it/s]2025-07-01 16:50:37,841 - INFO - 成功下载: Alaska_24.png\n",
      "下载进度:  25%|██▍       | 25/101 [00:25<01:13,  1.03it/s]2025-07-01 16:50:40,141 - INFO - 成功下载: Alaska_25.png\n",
      "下载进度:  26%|██▌       | 26/101 [00:27<01:42,  1.37s/it]2025-07-01 16:50:42,833 - INFO - 成功下载: Alaska_27.png\n",
      "下载进度:  27%|██▋       | 27/101 [00:30<02:10,  1.76s/it]2025-07-01 16:50:43,347 - INFO - 成功下载: Alaska_28.png\n",
      "下载进度:  28%|██▊       | 28/101 [00:31<01:41,  1.39s/it]2025-07-01 16:50:45,488 - INFO - 成功下载: Alaska_26.png\n",
      "下载进度:  29%|██▊       | 29/101 [00:33<01:56,  1.61s/it]2025-07-01 16:50:46,552 - INFO - 成功下载: Alaska_30.png\n",
      "下载进度:  30%|██▉       | 30/101 [00:34<01:42,  1.45s/it]2025-07-01 16:50:48,232 - INFO - 成功下载: Alaska_29.png\n",
      "下载进度:  31%|███       | 31/101 [00:35<01:46,  1.52s/it]2025-07-01 16:50:49,221 - INFO - 成功下载: Alaska_31.png\n",
      "下载进度:  32%|███▏      | 32/101 [00:36<01:33,  1.36s/it]2025-07-01 16:50:49,532 - INFO - 成功下载: Alaska_33.png\n",
      "下载进度:  33%|███▎      | 33/101 [00:37<01:11,  1.05s/it]2025-07-01 16:50:50,089 - INFO - 成功下载: Alaska_32.png\n",
      "下载进度:  34%|███▎      | 34/101 [00:37<01:00,  1.11it/s]2025-07-01 16:50:50,378 - INFO - 成功下载: Alaska_34.png\n",
      "下载进度:  35%|███▍      | 35/101 [00:38<00:47,  1.40it/s]2025-07-01 16:50:52,376 - INFO - 成功下载: Alaska_36.png\n",
      "下载进度:  36%|███▌      | 36/101 [00:40<01:11,  1.10s/it]2025-07-01 16:50:55,583 - INFO - 成功下载: Alaska_40.png\n",
      "下载进度:  37%|███▋      | 37/101 [00:43<01:50,  1.73s/it]2025-07-01 16:50:55,844 - INFO - 成功下载: Alaska_38.png\n",
      "下载进度:  38%|███▊      | 38/101 [00:43<01:21,  1.29s/it]2025-07-01 16:50:57,523 - INFO - 成功下载: Alaska_35.png\n",
      "下载进度:  39%|███▊      | 39/101 [00:45<01:27,  1.41s/it]2025-07-01 16:50:58,905 - INFO - 成功下载: Alaska_37.png\n",
      "下载进度:  40%|███▉      | 40/101 [00:46<01:25,  1.40s/it]2025-07-01 16:50:59,489 - INFO - 成功下载: Alaska_39.png\n",
      "下载进度:  41%|████      | 41/101 [00:47<01:09,  1.15s/it]2025-07-01 16:50:59,648 - INFO - 成功下载: Alaska_41.png\n",
      "下载进度:  42%|████▏     | 42/101 [00:47<00:50,  1.17it/s]2025-07-01 16:51:00,135 - INFO - 成功下载: Alaska_42.png\n",
      "下载进度:  43%|████▎     | 43/101 [00:47<00:43,  1.34it/s]2025-07-01 16:51:01,262 - INFO - 成功下载: Alaska_44.png\n",
      "下载进度:  44%|████▎     | 44/101 [00:48<00:49,  1.16it/s]2025-07-01 16:51:02,173 - INFO - 成功下载: Alaska_46.png\n",
      "下载进度:  45%|████▍     | 45/101 [00:49<00:49,  1.14it/s]2025-07-01 16:51:02,636 - INFO - 成功下载: Alaska_45.png\n",
      "下载进度:  46%|████▌     | 46/101 [00:50<00:41,  1.33it/s]2025-07-01 16:51:03,453 - INFO - 成功下载: Alaska_43.png\n",
      "下载进度:  47%|████▋     | 47/101 [00:51<00:41,  1.30it/s]2025-07-01 16:51:03,692 - INFO - 成功下载: Alaska_47.png\n",
      "下载进度:  48%|████▊     | 48/101 [00:51<00:32,  1.64it/s]2025-07-01 16:51:04,492 - INFO - 成功下载: Alaska_49.png\n",
      "下载进度:  49%|████▊     | 49/101 [00:52<00:34,  1.50it/s]2025-07-01 16:51:04,779 - INFO - 成功下载: Alaska_48.png\n",
      "下载进度:  50%|████▉     | 50/101 [00:52<00:28,  1.81it/s]2025-07-01 16:51:05,541 - INFO - 成功下载: Alaska_50.png\n",
      "下载进度:  50%|█████     | 51/101 [00:53<00:30,  1.62it/s]2025-07-01 16:51:06,689 - INFO - 成功下载: Alaska_51.png\n",
      "下载进度:  51%|█████▏    | 52/101 [00:54<00:38,  1.29it/s]2025-07-01 16:51:07,034 - INFO - 成功下载: Alaska_53.png\n",
      "下载进度:  52%|█████▏    | 53/101 [00:54<00:31,  1.55it/s]2025-07-01 16:51:07,075 - INFO - 成功下载: Alaska_52.png\n",
      "2025-07-01 16:51:07,342 - INFO - 成功下载: Alaska_54.png\n",
      "下载进度:  54%|█████▍    | 55/101 [00:55<00:19,  2.39it/s]2025-07-01 16:51:08,293 - INFO - 成功下载: Alaska_55.png\n",
      "下载进度:  55%|█████▌    | 56/101 [00:56<00:24,  1.81it/s]2025-07-01 16:51:10,825 - INFO - 成功下载: Alaska_58.png\n",
      "下载进度:  56%|█████▋    | 57/101 [00:58<00:47,  1.07s/it]2025-07-01 16:51:11,282 - INFO - 成功下载: Alaska_57.png\n",
      "下载进度:  57%|█████▋    | 58/101 [00:58<00:38,  1.11it/s]2025-07-01 16:51:11,752 - INFO - 成功下载: Alaska_59.png\n",
      "下载进度:  58%|█████▊    | 59/101 [00:59<00:32,  1.28it/s]2025-07-01 16:51:12,898 - INFO - 成功下载: Alaska_60.png\n",
      "下载进度:  59%|█████▉    | 60/101 [01:00<00:36,  1.13it/s]2025-07-01 16:51:15,345 - INFO - 成功下载: Alaska_62.png\n",
      "下载进度:  60%|██████    | 61/101 [01:03<00:53,  1.34s/it]2025-07-01 16:51:15,879 - INFO - 成功下载: Alaska_61.png\n",
      "下载进度:  61%|██████▏   | 62/101 [01:03<00:43,  1.10s/it]2025-07-01 16:51:15,889 - INFO - 成功下载: Alaska_63.png\n",
      "2025-07-01 16:51:17,872 - INFO - 成功下载: Alaska_64.png\n",
      "下载进度:  63%|██████▎   | 64/101 [01:05<00:39,  1.05s/it]2025-07-01 16:51:19,006 - INFO - 成功下载: Alaska_67.png\n",
      "下载进度:  64%|██████▍   | 65/101 [01:06<00:38,  1.07s/it]2025-07-01 16:51:19,520 - INFO - 成功下载: Alaska_65.png\n",
      "下载进度:  65%|██████▌   | 66/101 [01:07<00:32,  1.08it/s]2025-07-01 16:51:20,641 - INFO - 成功下载: Alaska_68.png\n",
      "下载进度:  66%|██████▋   | 67/101 [01:08<00:33,  1.02it/s]2025-07-01 16:51:22,260 - INFO - 成功下载: Alaska_70.png\n",
      "下载进度:  67%|██████▋   | 68/101 [01:09<00:38,  1.16s/it]2025-07-01 16:51:22,747 - INFO - 成功下载: Alaska_66.png\n",
      "下载进度:  68%|██████▊   | 69/101 [01:10<00:30,  1.03it/s]2025-07-01 16:51:22,959 - INFO - 成功下载: Alaska_69.png\n",
      "下载进度:  69%|██████▉   | 70/101 [01:10<00:23,  1.34it/s]2025-07-01 16:51:23,385 - INFO - 成功下载: Alaska_56.png\n",
      "下载进度:  70%|███████   | 71/101 [01:11<00:19,  1.53it/s]2025-07-01 16:51:23,563 - INFO - 成功下载: Alaska_71.png\n",
      "下载进度:  71%|███████▏  | 72/101 [01:11<00:14,  1.94it/s]2025-07-01 16:51:25,681 - INFO - 成功下载: Alaska_73.png\n",
      "下载进度:  72%|███████▏  | 73/101 [01:13<00:27,  1.01it/s]2025-07-01 16:51:26,692 - INFO - 成功下载: Alaska_75.png\n",
      "下载进度:  73%|███████▎  | 74/101 [01:14<00:26,  1.00it/s]2025-07-01 16:51:27,114 - INFO - 成功下载: Alaska_72.png\n",
      "下载进度:  74%|███████▍  | 75/101 [01:14<00:21,  1.21it/s]2025-07-01 16:51:28,242 - INFO - 成功下载: Alaska_74.png\n",
      "下载进度:  75%|███████▌  | 76/101 [01:15<00:22,  1.09it/s]2025-07-01 16:51:32,283 - INFO - 成功下载: Alaska_78.png\n",
      "下载进度:  76%|███████▌  | 77/101 [01:19<00:44,  1.85s/it]2025-07-01 16:51:33,671 - INFO - 成功下载: Alaska_76.png\n",
      "下载进度:  77%|███████▋  | 78/101 [01:21<00:39,  1.71s/it]2025-07-01 16:51:34,450 - INFO - 成功下载: Alaska_79.png\n",
      "下载进度:  78%|███████▊  | 79/101 [01:22<00:31,  1.43s/it]2025-07-01 16:51:34,715 - INFO - 成功下载: Alaska_77.png\n",
      "下载进度:  79%|███████▉  | 80/101 [01:22<00:22,  1.08s/it]2025-07-01 16:51:35,072 - INFO - 成功下载: Alaska_80.png\n",
      "下载进度:  80%|████████  | 81/101 [01:22<00:17,  1.16it/s]2025-07-01 16:51:35,309 - INFO - 成功下载: Alaska_81.png\n",
      "下载进度:  81%|████████  | 82/101 [01:23<00:12,  1.48it/s]2025-07-01 16:51:36,616 - INFO - 成功下载: Alaska_82.png\n",
      "下载进度:  82%|████████▏ | 83/101 [01:24<00:15,  1.15it/s]2025-07-01 16:51:37,496 - INFO - 成功下载: Alaska_84.png\n",
      "下载进度:  83%|████████▎ | 84/101 [01:25<00:14,  1.15it/s]2025-07-01 16:51:37,841 - INFO - 成功下载: Alaska_85.png\n",
      "下载进度:  84%|████████▍ | 85/101 [01:25<00:11,  1.40it/s]2025-07-01 16:51:37,851 - INFO - 成功下载: Alaska_83.png\n",
      "2025-07-01 16:51:38,483 - INFO - 成功下载: Alaska_86.png\n",
      "下载进度:  86%|████████▌ | 87/101 [01:26<00:07,  1.88it/s]2025-07-01 16:51:39,948 - INFO - 成功下载: Alaska_87.png\n",
      "下载进度:  87%|████████▋ | 88/101 [01:27<00:09,  1.31it/s]2025-07-01 16:51:40,545 - INFO - 成功下载: Alaska_89.png\n",
      "下载进度:  88%|████████▊ | 89/101 [01:28<00:08,  1.39it/s]2025-07-01 16:51:40,716 - INFO - 成功下载: Alaska_88.png\n",
      "下载进度:  89%|████████▉ | 90/101 [01:28<00:06,  1.75it/s]2025-07-01 16:51:40,941 - INFO - 成功下载: Alaska_90.png\n",
      "下载进度:  90%|█████████ | 91/101 [01:28<00:04,  2.11it/s]2025-07-01 16:51:42,121 - INFO - 成功下载: Alaska_91.png\n",
      "下载进度:  91%|█████████ | 92/101 [01:29<00:06,  1.48it/s]2025-07-01 16:51:43,670 - INFO - 成功下载: Alaska_92.png\n",
      "2025-07-01 16:51:43,671 - INFO - 成功下载: Alaska_93.png\n",
      "下载进度:  92%|█████████▏| 93/101 [01:31<00:07,  1.08it/s]2025-07-01 16:51:43,718 - INFO - 成功下载: Alaska_95.png\n",
      "2025-07-01 16:51:45,392 - INFO - 成功下载: Alaska_96.png\n",
      "下载进度:  95%|█████████▌| 96/101 [01:33<00:03,  1.37it/s]2025-07-01 16:51:46,133 - INFO - 成功下载: Alaska_94.png\n",
      "下载进度:  96%|█████████▌| 97/101 [01:33<00:02,  1.36it/s]2025-07-01 16:51:46,853 - INFO - 成功下载: Alaska_97.png\n",
      "下载进度:  97%|█████████▋| 98/101 [01:34<00:02,  1.37it/s]2025-07-01 16:51:48,188 - INFO - 成功下载: Alaska_98.png\n",
      "下载进度:  98%|█████████▊| 99/101 [01:35<00:01,  1.14it/s]2025-07-01 16:51:51,030 - INFO - 成功下载: Alaska_99.png\n",
      "下载进度:  99%|█████████▉| 100/101 [01:38<00:01,  1.39s/it]2025-07-01 16:51:56,596 - INFO - 成功下载: Alaska_100.png\n",
      "下载进度: 100%|██████████| 101/101 [01:44<00:00,  1.03s/it]\n",
      "2025-07-01 16:51:56,599 - INFO - \n",
      "下载完成！成功: 101, 失败: 0\n"
     ]
    },
    {
     "data": {
      "text/plain": [
       "{'success': 101, 'failed': 0, 'total': 101}"
      ]
     },
     "execution_count": 20,
     "metadata": {},
     "output_type": "execute_result"
    }
   ],
   "source": [
    "Alaska = Downloader(gee, country='Alaska')\n",
    "Alaska.download_batch(bounds_fc=bounds)"
   ]
  },
  {
   "cell_type": "markdown",
   "id": "ced0ac90",
   "metadata": {},
   "source": [
    "## Show Features on GMap"
   ]
  },
  {
   "cell_type": "code",
   "execution_count": 22,
   "id": "a9eebea2",
   "metadata": {},
   "outputs": [
    {
     "data": {
      "text/html": [
       "\n",
       "            <style>\n",
       "                .geemap-dark {\n",
       "                    --jp-widgets-color: white;\n",
       "                    --jp-widgets-label-color: white;\n",
       "                    --jp-ui-font-color1: white;\n",
       "                    --jp-layout-color2: #454545;\n",
       "                    background-color: #383838;\n",
       "                }\n",
       "\n",
       "                .geemap-dark .jupyter-button {\n",
       "                    --jp-layout-color3: #383838;\n",
       "                }\n",
       "\n",
       "                .geemap-colab {\n",
       "                    background-color: var(--colab-primary-surface-color, white);\n",
       "                }\n",
       "\n",
       "                .geemap-colab .jupyter-button {\n",
       "                    --jp-layout-color3: var(--colab-primary-surface-color, white);\n",
       "                }\n",
       "            </style>\n",
       "            "
      ],
      "text/plain": [
       "<IPython.core.display.HTML object>"
      ]
     },
     "metadata": {},
     "output_type": "display_data"
    }
   ],
   "source": [
    "gmap.addLayer(\n",
    "    bounds\n",
    ")"
   ]
  },
  {
   "cell_type": "code",
   "execution_count": 23,
   "id": "d288947a",
   "metadata": {},
   "outputs": [
    {
     "data": {
      "text/html": [
       "\n",
       "            <style>\n",
       "                .geemap-dark {\n",
       "                    --jp-widgets-color: white;\n",
       "                    --jp-widgets-label-color: white;\n",
       "                    --jp-ui-font-color1: white;\n",
       "                    --jp-layout-color2: #454545;\n",
       "                    background-color: #383838;\n",
       "                }\n",
       "\n",
       "                .geemap-dark .jupyter-button {\n",
       "                    --jp-layout-color3: #383838;\n",
       "                }\n",
       "\n",
       "                .geemap-colab {\n",
       "                    background-color: var(--colab-primary-surface-color, white);\n",
       "                }\n",
       "\n",
       "                .geemap-colab .jupyter-button {\n",
       "                    --jp-layout-color3: var(--colab-primary-surface-color, white);\n",
       "                }\n",
       "            </style>\n",
       "            "
      ],
      "text/plain": [
       "<IPython.core.display.HTML object>"
      ]
     },
     "metadata": {},
     "output_type": "display_data"
    },
    {
     "data": {
      "application/vnd.jupyter.widget-view+json": {
       "model_id": "3a0b009a496748ba84c5338c43abe224",
       "version_major": 2,
       "version_minor": 0
      },
      "text/plain": [
       "Map(center=[0, 0], controls=(WidgetControl(options=['position', 'transparent_bg'], widget=SearchDataGUI(childr…"
      ]
     },
     "execution_count": 23,
     "metadata": {},
     "output_type": "execute_result"
    }
   ],
   "source": [
    "gmap"
   ]
  },
  {
   "cell_type": "markdown",
   "id": "751b7111",
   "metadata": {},
   "source": [
    "### Sentinel-2"
   ]
  }
 ],
 "metadata": {
  "kernelspec": {
   "display_name": "gee",
   "language": "python",
   "name": "python3"
  },
  "language_info": {
   "codemirror_mode": {
    "name": "ipython",
    "version": 3
   },
   "file_extension": ".py",
   "mimetype": "text/x-python",
   "name": "python",
   "nbconvert_exporter": "python",
   "pygments_lexer": "ipython3",
   "version": "3.11.9"
  }
 },
 "nbformat": 4,
 "nbformat_minor": 5
}
