{
 "cells": [
  {
   "cell_type": "code",
   "execution_count": 1,
   "id": "bd296b46",
   "metadata": {},
   "outputs": [],
   "source": [
    "%load_ext autoreload\n",
    "%autoreload 2"
   ]
  },
  {
   "cell_type": "code",
   "execution_count": 2,
   "id": "c34d7b7c",
   "metadata": {},
   "outputs": [],
   "source": [
    "from gee_modules.config import *\n",
    "from gee_modules.GEE import GEE"
   ]
  },
  {
   "cell_type": "code",
   "execution_count": 3,
   "id": "a3dffb21",
   "metadata": {},
   "outputs": [
    {
     "data": {
      "text/html": [
       "\n",
       "            <style>\n",
       "                .geemap-dark {\n",
       "                    --jp-widgets-color: white;\n",
       "                    --jp-widgets-label-color: white;\n",
       "                    --jp-ui-font-color1: white;\n",
       "                    --jp-layout-color2: #454545;\n",
       "                    background-color: #383838;\n",
       "                }\n",
       "\n",
       "                .geemap-dark .jupyter-button {\n",
       "                    --jp-layout-color3: #383838;\n",
       "                }\n",
       "\n",
       "                .geemap-colab {\n",
       "                    background-color: var(--colab-primary-surface-color, white);\n",
       "                }\n",
       "\n",
       "                .geemap-colab .jupyter-button {\n",
       "                    --jp-layout-color3: var(--colab-primary-surface-color, white);\n",
       "                }\n",
       "            </style>\n",
       "            "
      ],
      "text/plain": [
       "<IPython.core.display.HTML object>"
      ]
     },
     "metadata": {},
     "output_type": "display_data"
    }
   ],
   "source": [
    "users= {\n",
    "    'Liu': {\n",
    "        'project_id': 'planar-compass-462105-e3',\n",
    "        'asset_path': 'users/liuhsuu6/',\n",
    "    }\n",
    "}\n",
    "\n",
    "config = users['Liu']"
   ]
  },
  {
   "cell_type": "code",
   "execution_count": 7,
   "id": "be04e3a7",
   "metadata": {},
   "outputs": [
    {
     "data": {
      "text/html": [
       "\n",
       "            <style>\n",
       "                .geemap-dark {\n",
       "                    --jp-widgets-color: white;\n",
       "                    --jp-widgets-label-color: white;\n",
       "                    --jp-ui-font-color1: white;\n",
       "                    --jp-layout-color2: #454545;\n",
       "                    background-color: #383838;\n",
       "                }\n",
       "\n",
       "                .geemap-dark .jupyter-button {\n",
       "                    --jp-layout-color3: #383838;\n",
       "                }\n",
       "\n",
       "                .geemap-colab {\n",
       "                    background-color: var(--colab-primary-surface-color, white);\n",
       "                }\n",
       "\n",
       "                .geemap-colab .jupyter-button {\n",
       "                    --jp-layout-color3: var(--colab-primary-surface-color, white);\n",
       "                }\n",
       "            </style>\n",
       "            "
      ],
      "text/plain": [
       "<IPython.core.display.HTML object>"
      ]
     },
     "metadata": {},
     "output_type": "display_data"
    },
    {
     "name": "stderr",
     "output_type": "stream",
     "text": [
      "2025-07-31 18:34:00 - urllib3.connectionpool - DEBUG - Starting new HTTPS connection (1): oauth2.googleapis.com:443\n",
      "2025-07-31 18:34:00 - urllib3.connectionpool - DEBUG - https://oauth2.googleapis.com:443 \"POST /token HTTP/1.1\" 200 None\n",
      "2025-07-31 18:34:00 - urllib3.connectionpool - DEBUG - Starting new HTTPS connection (1): oauth2.googleapis.com:443\n",
      "2025-07-31 18:34:01 - urllib3.connectionpool - DEBUG - https://oauth2.googleapis.com:443 \"POST /token HTTP/1.1\" 200 None\n",
      "2025-07-31 18:34:01 - urllib3.connectionpool - DEBUG - Starting new HTTPS connection (1): oauth2.googleapis.com:443\n",
      "2025-07-31 18:34:01 - urllib3.connectionpool - DEBUG - https://oauth2.googleapis.com:443 \"POST /token HTTP/1.1\" 200 None\n",
      "2025-07-31 18:34:01 - googleapiclient.discovery - DEBUG - URL being requested: GET https://earthengine.googleapis.com/$discovery/rest?version=v1&prettyPrint=false\n",
      "2025-07-31 18:34:01 - urllib3.connectionpool - DEBUG - https://earthengine.googleapis.com:443 \"GET /$discovery/rest?version=v1&prettyPrint=false HTTP/1.1\" 200 None\n",
      "2025-07-31 18:34:01 - googleapiclient.discovery - DEBUG - URL being requested: GET https://earthengine.googleapis.com/$discovery/rest?version=v1&prettyPrint=false\n",
      "2025-07-31 18:34:02 - urllib3.connectionpool - DEBUG - https://earthengine.googleapis.com:443 \"GET /$discovery/rest?version=v1&prettyPrint=false HTTP/1.1\" 200 None\n",
      "2025-07-31 18:34:02 - GMap - DEBUG - Initializing GMap\n"
     ]
    },
    {
     "name": "stdout",
     "output_type": "stream",
     "text": [
      "✅ 成功连接到Google Earth Engine\n",
      "Using device: cuda\n",
      "Loading checkpoint from: D:\\HKU\\OneDrive - The University of Hong Kong - Connect\\项目\\测绘-TJ\\north_polar\\python\\model\\DeepLabV3Plus/checkpoints/checkpoint_epoch30_20250731_181940.pth\n",
      "Loaded model from epoch 30\n",
      "Model validation mIoU: 0.7001\n",
      "Using device: cuda\n",
      "Loading checkpoint from: D:\\HKU\\OneDrive - The University of Hong Kong - Connect\\项目\\测绘-TJ\\north_polar\\python\\model\\DeepLabV3Plus/checkpoints/checkpoint_epoch30_20250731_181940.pth\n"
     ]
    },
    {
     "name": "stderr",
     "output_type": "stream",
     "text": [
      "2025-07-31 18:34:04 - ModelInterface - INFO - Model loaded successfully from D:\\HKU\\OneDrive - The University of Hong Kong - Connect\\项目\\测绘-TJ\\north_polar\\python\\model\\DeepLabV3Plus/checkpoints/checkpoint_epoch30_20250731_181940.pth\n",
      "2025-07-31 18:34:04 - GMap - INFO - Model interface loaded successfully\n",
      "2025-07-31 18:34:04 - GMap - DEBUG - Set up 2 tools\n",
      "2025-07-31 18:34:04 - GMap - DEBUG - GMap initialization complete\n"
     ]
    },
    {
     "name": "stdout",
     "output_type": "stream",
     "text": [
      "Loaded model from epoch 30\n",
      "Model validation mIoU: 0.7001\n"
     ]
    }
   ],
   "source": [
    "usr = GEE(\n",
    "    GEE_PROJECT_ID = config['project_id'],\n",
    ")"
   ]
  },
  {
   "cell_type": "code",
   "execution_count": 8,
   "id": "0a6e8240",
   "metadata": {},
   "outputs": [
    {
     "data": {
      "text/html": [
       "\n",
       "            <style>\n",
       "                .geemap-dark {\n",
       "                    --jp-widgets-color: white;\n",
       "                    --jp-widgets-label-color: white;\n",
       "                    --jp-ui-font-color1: white;\n",
       "                    --jp-layout-color2: #454545;\n",
       "                    background-color: #383838;\n",
       "                }\n",
       "\n",
       "                .geemap-dark .jupyter-button {\n",
       "                    --jp-layout-color3: #383838;\n",
       "                }\n",
       "\n",
       "                .geemap-colab {\n",
       "                    background-color: var(--colab-primary-surface-color, white);\n",
       "                }\n",
       "\n",
       "                .geemap-colab .jupyter-button {\n",
       "                    --jp-layout-color3: var(--colab-primary-surface-color, white);\n",
       "                }\n",
       "            </style>\n",
       "            "
      ],
      "text/plain": [
       "<IPython.core.display.HTML object>"
      ]
     },
     "metadata": {},
     "output_type": "display_data"
    },
    {
     "name": "stderr",
     "output_type": "stream",
     "text": [
      "2025-07-31 18:34:05 - GMap - INFO - Starting GMap application\n",
      "2025-07-31 18:34:05 - GMap - DEBUG - Native tools added successfully\n",
      "2025-07-31 18:34:05 - GMap - DEBUG - Map display initialized\n"
     ]
    },
    {
     "data": {
      "application/vnd.jupyter.widget-view+json": {
       "model_id": "61989525e9304190ba11ebf7b9dc68b8",
       "version_major": 2,
       "version_minor": 0
      },
      "text/plain": [
       "Map(center=[0, 0], controls=(WidgetControl(options=['position', 'transparent_bg'], widget=SearchDataGUI(childr…"
      ]
     },
     "metadata": {},
     "output_type": "display_data"
    },
    {
     "data": {
      "application/vnd.jupyter.widget-view+json": {
       "model_id": "9281cc6783554d8e939f1a625458d49b",
       "version_major": 2,
       "version_minor": 0
      },
      "text/plain": [
       "VBox(children=(HTML(value='\\n        <div style=\"\\n            padding: 12px 16px;\\n            margin: 10px 0…"
      ]
     },
     "metadata": {},
     "output_type": "display_data"
    }
   ],
   "source": [
    "usr.main()"
   ]
  },
  {
   "cell_type": "code",
   "execution_count": null,
   "id": "f505a967",
   "metadata": {},
   "outputs": [],
   "source": []
  }
 ],
 "metadata": {
  "kernelspec": {
   "display_name": "gee",
   "language": "python",
   "name": "python3"
  },
  "language_info": {
   "codemirror_mode": {
    "name": "ipython",
    "version": 3
   },
   "file_extension": ".py",
   "mimetype": "text/x-python",
   "name": "python",
   "nbconvert_exporter": "python",
   "pygments_lexer": "ipython3",
   "version": "3.11.9"
  }
 },
 "nbformat": 4,
 "nbformat_minor": 5
}
