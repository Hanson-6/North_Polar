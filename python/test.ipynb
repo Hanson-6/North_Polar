{
 "cells": [
  {
   "cell_type": "markdown",
   "id": "af08a6fb",
   "metadata": {},
   "source": [
    "## Import"
   ]
  },
  {
   "cell_type": "code",
   "execution_count": 3,
   "id": "573610e7",
   "metadata": {},
   "outputs": [
    {
     "data": {
      "text/html": [
       "\n",
       "            <style>\n",
       "                .geemap-dark {\n",
       "                    --jp-widgets-color: white;\n",
       "                    --jp-widgets-label-color: white;\n",
       "                    --jp-ui-font-color1: white;\n",
       "                    --jp-layout-color2: #454545;\n",
       "                    background-color: #383838;\n",
       "                }\n",
       "\n",
       "                .geemap-dark .jupyter-button {\n",
       "                    --jp-layout-color3: #383838;\n",
       "                }\n",
       "\n",
       "                .geemap-colab {\n",
       "                    background-color: var(--colab-primary-surface-color, white);\n",
       "                }\n",
       "\n",
       "                .geemap-colab .jupyter-button {\n",
       "                    --jp-layout-color3: var(--colab-primary-surface-color, white);\n",
       "                }\n",
       "            </style>\n",
       "            "
      ],
      "text/plain": [
       "<IPython.core.display.HTML object>"
      ]
     },
     "metadata": {},
     "output_type": "display_data"
    }
   ],
   "source": [
    "from gee_modules.config import *\n",
    "from gee_modules.data import *\n",
    "from gee_modules.GEE import GEE\n",
    "from gee_modules.GMap import GMap"
   ]
  },
  {
   "cell_type": "markdown",
   "id": "09458da2",
   "metadata": {},
   "source": [
    "## Initialization"
   ]
  },
  {
   "cell_type": "code",
   "execution_count": 2,
   "id": "22f2fefb",
   "metadata": {},
   "outputs": [
    {
     "data": {
      "text/html": [
       "\n",
       "            <style>\n",
       "                .geemap-dark {\n",
       "                    --jp-widgets-color: white;\n",
       "                    --jp-widgets-label-color: white;\n",
       "                    --jp-ui-font-color1: white;\n",
       "                    --jp-layout-color2: #454545;\n",
       "                    background-color: #383838;\n",
       "                }\n",
       "\n",
       "                .geemap-dark .jupyter-button {\n",
       "                    --jp-layout-color3: #383838;\n",
       "                }\n",
       "\n",
       "                .geemap-colab {\n",
       "                    background-color: var(--colab-primary-surface-color, white);\n",
       "                }\n",
       "\n",
       "                .geemap-colab .jupyter-button {\n",
       "                    --jp-layout-color3: var(--colab-primary-surface-color, white);\n",
       "                }\n",
       "            </style>\n",
       "            "
      ],
      "text/plain": [
       "<IPython.core.display.HTML object>"
      ]
     },
     "metadata": {},
     "output_type": "display_data"
    }
   ],
   "source": [
    "project_id = 'planar-compass-462105-e3'\n",
    "platform_name = 'sentinel2'\n",
    "gee = GEE(project_id, platform_name)\n",
    "\n",
    "iceland = FeatColl('users/liuhsuu6/iceland')\n",
    "\n",
    "gmap = GMap(gee)"
   ]
  },
  {
   "cell_type": "markdown",
   "id": "d645d05d",
   "metadata": {},
   "source": [
    "## 读取JSON"
   ]
  },
  {
   "cell_type": "code",
   "execution_count": null,
   "id": "2d134de1",
   "metadata": {},
   "outputs": [
    {
     "data": {
      "text/html": [
       "\n",
       "            <style>\n",
       "                .geemap-dark {\n",
       "                    --jp-widgets-color: white;\n",
       "                    --jp-widgets-label-color: white;\n",
       "                    --jp-ui-font-color1: white;\n",
       "                    --jp-layout-color2: #454545;\n",
       "                    background-color: #383838;\n",
       "                }\n",
       "\n",
       "                .geemap-dark .jupyter-button {\n",
       "                    --jp-layout-color3: #383838;\n",
       "                }\n",
       "\n",
       "                .geemap-colab {\n",
       "                    background-color: var(--colab-primary-surface-color, white);\n",
       "                }\n",
       "\n",
       "                .geemap-colab .jupyter-button {\n",
       "                    --jp-layout-color3: var(--colab-primary-surface-color, white);\n",
       "                }\n",
       "            </style>\n",
       "            "
      ],
      "text/plain": [
       "<IPython.core.display.HTML object>"
      ]
     },
     "metadata": {},
     "output_type": "display_data"
    },
    {
     "name": "stdout",
     "output_type": "stream",
     "text": [
      "==> Reading JSON file of Alaska.\n",
      "==> There are 5 files.\n",
      "<class 'ee.featurecollection.FeatureCollection'>\n",
      "<class 'ee.featurecollection.FeatureCollection'>\n",
      "<class 'ee.featurecollection.FeatureCollection'>\n",
      "<class 'ee.featurecollection.FeatureCollection'>\n",
      "<class 'ee.featurecollection.FeatureCollection'>\n",
      "==> Reading JSON file of Canada.\n",
      "==> There are 4 files.\n",
      "<class 'ee.featurecollection.FeatureCollection'>\n",
      "<class 'ee.featurecollection.FeatureCollection'>\n",
      "<class 'ee.featurecollection.FeatureCollection'>\n",
      "<class 'ee.featurecollection.FeatureCollection'>\n",
      "==> Reading JSON file of Norway.\n",
      "==> There are 4 files.\n",
      "<class 'ee.featurecollection.FeatureCollection'>\n",
      "<class 'ee.featurecollection.FeatureCollection'>\n",
      "<class 'ee.featurecollection.FeatureCollection'>\n",
      "<class 'ee.featurecollection.FeatureCollection'>\n",
      "==> Reading JSON file of Russia.\n",
      "==> There are 4 files.\n",
      "<class 'ee.featurecollection.FeatureCollection'>\n",
      "<class 'ee.featurecollection.FeatureCollection'>\n",
      "<class 'ee.featurecollection.FeatureCollection'>\n",
      "<class 'ee.featurecollection.FeatureCollection'>\n",
      "==> Reading JSON file of Sweden.\n",
      "==> There are 5 files.\n",
      "<class 'ee.featurecollection.FeatureCollection'>\n",
      "<class 'ee.featurecollection.FeatureCollection'>\n",
      "<class 'ee.featurecollection.FeatureCollection'>\n",
      "<class 'ee.featurecollection.FeatureCollection'>\n",
      "<class 'ee.featurecollection.FeatureCollection'>\n"
     ]
    }
   ],
   "source": [
    "folder_path = 'D:/HKU/OneDrive - The University of Hong Kong - Connect/项目/测绘-TJ/north_polar/north_polar/model/built_up_area/dataset/boundary'\n",
    "\n",
    "countries = os.listdir(folder_path)\n",
    "\n",
    "countries_boundaries = []\n",
    "\n",
    "for country in countries:\n",
    "    print(f\"==> Reading JSON file of {country}.\")\n",
    "\n",
    "    path = f\"{folder_path}/{country}/\"\n",
    "    files = os.listdir(path)\n",
    "    print(f\"==> There are {len(files)} files.\")\n",
    "    time.sleep(1)\n",
    "\n",
    "    boundaries = []\n",
    "    for file in files:\n",
    "        coords = gee.readJSON(f\"{path}/{file}\")\n",
    "        print(type(coords))"
   ]
  },
  {
   "cell_type": "markdown",
   "id": "cb8242d2",
   "metadata": {},
   "source": [
    "## Iceland"
   ]
  },
  {
   "cell_type": "code",
   "execution_count": 3,
   "id": "6b3e174f",
   "metadata": {},
   "outputs": [
    {
     "data": {
      "text/html": [
       "\n",
       "            <style>\n",
       "                .geemap-dark {\n",
       "                    --jp-widgets-color: white;\n",
       "                    --jp-widgets-label-color: white;\n",
       "                    --jp-ui-font-color1: white;\n",
       "                    --jp-layout-color2: #454545;\n",
       "                    background-color: #383838;\n",
       "                }\n",
       "\n",
       "                .geemap-dark .jupyter-button {\n",
       "                    --jp-layout-color3: #383838;\n",
       "                }\n",
       "\n",
       "                .geemap-colab {\n",
       "                    background-color: var(--colab-primary-surface-color, white);\n",
       "                }\n",
       "\n",
       "                .geemap-colab .jupyter-button {\n",
       "                    --jp-layout-color3: var(--colab-primary-surface-color, white);\n",
       "                }\n",
       "            </style>\n",
       "            "
      ],
      "text/plain": [
       "<IPython.core.display.HTML object>"
      ]
     },
     "metadata": {},
     "output_type": "display_data"
    },
    {
     "data": {
      "application/vnd.jupyter.widget-view+json": {
       "model_id": "e9317eda7505473fad227a2d801996f5",
       "version_major": 2,
       "version_minor": 0
      },
      "text/plain": [
       "Map(center=[64.50046349364042, -20.762560876370223], controls=(WidgetControl(options=['position', 'transparent…"
      ]
     },
     "execution_count": 3,
     "metadata": {},
     "output_type": "execute_result"
    }
   ],
   "source": [
    "gmap.addLayer(\n",
    "    data=iceland.data,\n",
    "    style={'color': 'red'},\n",
    "    name='Iceland'\n",
    ")\n",
    "gmap.setCenter(iceland.data, 5)\n",
    "\n",
    "gmap.map"
   ]
  },
  {
   "cell_type": "markdown",
   "id": "7dbc1d9c",
   "metadata": {},
   "source": [
    "## Test"
   ]
  },
  {
   "cell_type": "markdown",
   "id": "14553846",
   "metadata": {},
   "source": [
    "Divide the given region into grids"
   ]
  },
  {
   "cell_type": "code",
   "execution_count": 8,
   "id": "d55e999b",
   "metadata": {},
   "outputs": [
    {
     "data": {
      "text/html": [
       "\n",
       "            <style>\n",
       "                .geemap-dark {\n",
       "                    --jp-widgets-color: white;\n",
       "                    --jp-widgets-label-color: white;\n",
       "                    --jp-ui-font-color1: white;\n",
       "                    --jp-layout-color2: #454545;\n",
       "                    background-color: #383838;\n",
       "                }\n",
       "\n",
       "                .geemap-dark .jupyter-button {\n",
       "                    --jp-layout-color3: #383838;\n",
       "                }\n",
       "\n",
       "                .geemap-colab {\n",
       "                    background-color: var(--colab-primary-surface-color, white);\n",
       "                }\n",
       "\n",
       "                .geemap-colab .jupyter-button {\n",
       "                    --jp-layout-color3: var(--colab-primary-surface-color, white);\n",
       "                }\n",
       "            </style>\n",
       "            "
      ],
      "text/plain": [
       "<IPython.core.display.HTML object>"
      ]
     },
     "metadata": {},
     "output_type": "display_data"
    },
    {
     "data": {
      "text/html": [
       "<pre>&lt;ee.featurecollection.FeatureCollection object at 0x000001C527F0C4D0&gt;</pre>"
      ],
      "text/plain": [
       "<ee.featurecollection.FeatureCollection at 0x1c527f0c4d0>"
      ]
     },
     "execution_count": 8,
     "metadata": {},
     "output_type": "execute_result"
    }
   ],
   "source": [
    "gmap.showGrids(\n",
    "    iceland.rectBounds,\n",
    "    140,\n",
    "    60\n",
    ")"
   ]
  },
  {
   "cell_type": "markdown",
   "id": "66ec5a76",
   "metadata": {},
   "source": [
    "Show sentinel-2 part on Google Map."
   ]
  },
  {
   "cell_type": "code",
   "execution_count": 4,
   "id": "283772b6",
   "metadata": {},
   "outputs": [
    {
     "data": {
      "text/html": [
       "\n",
       "            <style>\n",
       "                .geemap-dark {\n",
       "                    --jp-widgets-color: white;\n",
       "                    --jp-widgets-label-color: white;\n",
       "                    --jp-ui-font-color1: white;\n",
       "                    --jp-layout-color2: #454545;\n",
       "                    background-color: #383838;\n",
       "                }\n",
       "\n",
       "                .geemap-dark .jupyter-button {\n",
       "                    --jp-layout-color3: #383838;\n",
       "                }\n",
       "\n",
       "                .geemap-colab {\n",
       "                    background-color: var(--colab-primary-surface-color, white);\n",
       "                }\n",
       "\n",
       "                .geemap-colab .jupyter-button {\n",
       "                    --jp-layout-color3: var(--colab-primary-surface-color, white);\n",
       "                }\n",
       "            </style>\n",
       "            "
      ],
      "text/plain": [
       "<IPython.core.display.HTML object>"
      ]
     },
     "metadata": {},
     "output_type": "display_data"
    }
   ],
   "source": [
    "result = gee.exportPic(\n",
    "    ee_feature(iceland.data.first()).bounds(),\n",
    "    # iceland.data,\n",
    "    # output_size=(1280, 1280/3.99),\n",
    ")"
   ]
  },
  {
   "cell_type": "code",
   "execution_count": 5,
   "id": "4dc0e91e",
   "metadata": {},
   "outputs": [
    {
     "data": {
      "text/html": [
       "\n",
       "            <style>\n",
       "                .geemap-dark {\n",
       "                    --jp-widgets-color: white;\n",
       "                    --jp-widgets-label-color: white;\n",
       "                    --jp-ui-font-color1: white;\n",
       "                    --jp-layout-color2: #454545;\n",
       "                    background-color: #383838;\n",
       "                }\n",
       "\n",
       "                .geemap-dark .jupyter-button {\n",
       "                    --jp-layout-color3: #383838;\n",
       "                }\n",
       "\n",
       "                .geemap-colab {\n",
       "                    background-color: var(--colab-primary-surface-color, white);\n",
       "                }\n",
       "\n",
       "                .geemap-colab .jupyter-button {\n",
       "                    --jp-layout-color3: var(--colab-primary-surface-color, white);\n",
       "                }\n",
       "            </style>\n",
       "            "
      ],
      "text/plain": [
       "<IPython.core.display.HTML object>"
      ]
     },
     "metadata": {},
     "output_type": "display_data"
    }
   ],
   "source": [
    "gmap.showImg(result, 5)"
   ]
  },
  {
   "cell_type": "code",
   "execution_count": null,
   "id": "3f3f576c",
   "metadata": {},
   "outputs": [],
   "source": []
  }
 ],
 "metadata": {
  "kernelspec": {
   "display_name": "gee",
   "language": "python",
   "name": "python3"
  },
  "language_info": {
   "codemirror_mode": {
    "name": "ipython",
    "version": 3
   },
   "file_extension": ".py",
   "mimetype": "text/x-python",
   "name": "python",
   "nbconvert_exporter": "python",
   "pygments_lexer": "ipython3",
   "version": "3.11.0"
  }
 },
 "nbformat": 4,
 "nbformat_minor": 5
}
