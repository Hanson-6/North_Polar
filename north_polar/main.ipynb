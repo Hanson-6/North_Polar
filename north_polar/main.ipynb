{
 "cells": [
  {
   "cell_type": "code",
   "execution_count": 1,
   "id": "bd296b46",
   "metadata": {},
   "outputs": [],
   "source": [
    "%load_ext autoreload\n",
    "%autoreload 2"
   ]
  },
  {
   "cell_type": "code",
   "execution_count": 2,
   "id": "c34d7b7c",
   "metadata": {},
   "outputs": [],
   "source": [
    "from gee_modules.config import *\n",
    "from gee_modules.GEE import GEE"
   ]
  },
  {
   "cell_type": "code",
   "execution_count": 3,
   "id": "a3dffb21",
   "metadata": {},
   "outputs": [
    {
     "data": {
      "text/html": [
       "\n",
       "            <style>\n",
       "                .geemap-dark {\n",
       "                    --jp-widgets-color: white;\n",
       "                    --jp-widgets-label-color: white;\n",
       "                    --jp-ui-font-color1: white;\n",
       "                    --jp-layout-color2: #454545;\n",
       "                    background-color: #383838;\n",
       "                }\n",
       "\n",
       "                .geemap-dark .jupyter-button {\n",
       "                    --jp-layout-color3: #383838;\n",
       "                }\n",
       "\n",
       "                .geemap-colab {\n",
       "                    background-color: var(--colab-primary-surface-color, white);\n",
       "                }\n",
       "\n",
       "                .geemap-colab .jupyter-button {\n",
       "                    --jp-layout-color3: var(--colab-primary-surface-color, white);\n",
       "                }\n",
       "            </style>\n",
       "            "
      ],
      "text/plain": [
       "<IPython.core.display.HTML object>"
      ]
     },
     "metadata": {},
     "output_type": "display_data"
    }
   ],
   "source": [
    "users= {\n",
    "    'Liu': {\n",
    "        'project_id': 'planar-compass-462105-e3',\n",
    "        'asset_path': 'users/liuhsuu6/',\n",
    "    }\n",
    "}\n",
    "\n",
    "config = users['Liu']"
   ]
  },
  {
   "cell_type": "code",
   "execution_count": 4,
   "id": "be04e3a7",
   "metadata": {},
   "outputs": [
    {
     "data": {
      "text/html": [
       "\n",
       "            <style>\n",
       "                .geemap-dark {\n",
       "                    --jp-widgets-color: white;\n",
       "                    --jp-widgets-label-color: white;\n",
       "                    --jp-ui-font-color1: white;\n",
       "                    --jp-layout-color2: #454545;\n",
       "                    background-color: #383838;\n",
       "                }\n",
       "\n",
       "                .geemap-dark .jupyter-button {\n",
       "                    --jp-layout-color3: #383838;\n",
       "                }\n",
       "\n",
       "                .geemap-colab {\n",
       "                    background-color: var(--colab-primary-surface-color, white);\n",
       "                }\n",
       "\n",
       "                .geemap-colab .jupyter-button {\n",
       "                    --jp-layout-color3: var(--colab-primary-surface-color, white);\n",
       "                }\n",
       "            </style>\n",
       "            "
      ],
      "text/plain": [
       "<IPython.core.display.HTML object>"
      ]
     },
     "metadata": {},
     "output_type": "display_data"
    },
    {
     "name": "stderr",
     "output_type": "stream",
     "text": [
      "2025-08-05 22:17:41 - urllib3.connectionpool - DEBUG - Starting new HTTPS connection (1): oauth2.googleapis.com:443\n",
      "2025-08-05 22:17:42 - urllib3.connectionpool - DEBUG - https://oauth2.googleapis.com:443 \"POST /token HTTP/1.1\" 200 None\n",
      "2025-08-05 22:17:42 - urllib3.connectionpool - DEBUG - Starting new HTTPS connection (1): oauth2.googleapis.com:443\n",
      "2025-08-05 22:17:43 - urllib3.connectionpool - DEBUG - https://oauth2.googleapis.com:443 \"POST /token HTTP/1.1\" 200 None\n",
      "2025-08-05 22:17:43 - urllib3.connectionpool - DEBUG - Starting new HTTPS connection (1): oauth2.googleapis.com:443\n",
      "2025-08-05 22:17:44 - urllib3.connectionpool - DEBUG - https://oauth2.googleapis.com:443 \"POST /token HTTP/1.1\" 200 None\n",
      "2025-08-05 22:17:44 - googleapiclient.discovery - DEBUG - URL being requested: GET https://earthengine.googleapis.com/$discovery/rest?version=v1&prettyPrint=false\n",
      "2025-08-05 22:17:44 - urllib3.connectionpool - DEBUG - Starting new HTTPS connection (1): earthengine.googleapis.com:443\n",
      "2025-08-05 22:17:46 - urllib3.connectionpool - DEBUG - https://earthengine.googleapis.com:443 \"GET /$discovery/rest?version=v1&prettyPrint=false HTTP/1.1\" 200 None\n",
      "2025-08-05 22:17:46 - googleapiclient.discovery - DEBUG - URL being requested: GET https://earthengine.googleapis.com/$discovery/rest?version=v1&prettyPrint=false\n",
      "2025-08-05 22:17:46 - urllib3.connectionpool - DEBUG - https://earthengine.googleapis.com:443 \"GET /$discovery/rest?version=v1&prettyPrint=false HTTP/1.1\" 200 None\n",
      "2025-08-05 22:17:46 - googleapiclient.discovery - DEBUG - URL being requested: GET https://earthengine.googleapis.com/v1/projects/planar-compass-462105-e3/algorithms?prettyPrint=false&alt=json\n",
      "2025-08-05 22:17:47 - urllib3.connectionpool - DEBUG - https://earthengine.googleapis.com:443 \"GET /v1/projects/planar-compass-462105-e3/algorithms?prettyPrint=false&alt=json HTTP/1.1\" 200 None\n",
      "2025-08-05 22:17:49 - GMap - DEBUG - Initializing GMap\n"
     ]
    },
    {
     "name": "stdout",
     "output_type": "stream",
     "text": [
      "✅ 成功连接到Google Earth Engine\n",
      "Using device: mps\n",
      "Loading checkpoint from: /Users/haha/Library/CloudStorage/OneDrive-TheUniversityofHongKong-Connect/项目/测绘-TJ/north_polar/north_polar/model/DeepLabV3Plus/checkpoints/checkpoint_epoch30_20250731_181940.pth\n",
      "Loaded model from epoch 30\n",
      "Model validation mIoU: 0.7001\n",
      "Using device: cpu\n"
     ]
    },
    {
     "name": "stderr",
     "output_type": "stream",
     "text": [
      "2025-08-05 22:17:51 - ModelInterface - INFO - Model loaded successfully from /Users/haha/Library/CloudStorage/OneDrive-TheUniversityofHongKong-Connect/项目/测绘-TJ/north_polar/north_polar/model/DeepLabV3Plus/checkpoints/checkpoint_epoch30_20250731_181940.pth\n",
      "2025-08-05 22:17:51 - GMap - INFO - Model interface loaded successfully\n",
      "2025-08-05 22:17:51 - GMap - DEBUG - Set up 2 tools\n",
      "2025-08-05 22:17:51 - GMap - DEBUG - GMap initialization complete\n"
     ]
    },
    {
     "name": "stdout",
     "output_type": "stream",
     "text": [
      "Loading checkpoint from: /Users/haha/Library/CloudStorage/OneDrive-TheUniversityofHongKong-Connect/项目/测绘-TJ/north_polar/north_polar/model/DeepLabV3Plus/checkpoints/checkpoint_epoch30_20250731_181940.pth\n",
      "Loaded model from epoch 30\n",
      "Model validation mIoU: 0.7001\n"
     ]
    }
   ],
   "source": [
    "usr = GEE(\n",
    "    GEE_PROJECT_ID = config['project_id'],\n",
    ")"
   ]
  },
  {
   "cell_type": "code",
   "execution_count": 5,
   "id": "0a6e8240",
   "metadata": {},
   "outputs": [
    {
     "data": {
      "text/html": [
       "\n",
       "            <style>\n",
       "                .geemap-dark {\n",
       "                    --jp-widgets-color: white;\n",
       "                    --jp-widgets-label-color: white;\n",
       "                    --jp-ui-font-color1: white;\n",
       "                    --jp-layout-color2: #454545;\n",
       "                    background-color: #383838;\n",
       "                }\n",
       "\n",
       "                .geemap-dark .jupyter-button {\n",
       "                    --jp-layout-color3: #383838;\n",
       "                }\n",
       "\n",
       "                .geemap-colab {\n",
       "                    background-color: var(--colab-primary-surface-color, white);\n",
       "                }\n",
       "\n",
       "                .geemap-colab .jupyter-button {\n",
       "                    --jp-layout-color3: var(--colab-primary-surface-color, white);\n",
       "                }\n",
       "            </style>\n",
       "            "
      ],
      "text/plain": [
       "<IPython.core.display.HTML object>"
      ]
     },
     "metadata": {},
     "output_type": "display_data"
    },
    {
     "name": "stderr",
     "output_type": "stream",
     "text": [
      "2025-08-05 22:18:02 - GMap - INFO - Starting GMap application\n",
      "2025-08-05 22:18:02 - GMap - DEBUG - Native tools added successfully\n",
      "2025-08-05 22:18:02 - GMap - DEBUG - Map display initialized\n"
     ]
    },
    {
     "data": {
      "application/vnd.jupyter.widget-view+json": {
       "model_id": "bb2a4fbdcd164252a022b13dc688d0fd",
       "version_major": 2,
       "version_minor": 0
      },
      "text/plain": [
       "Map(center=[0, 0], controls=(WidgetControl(options=['position', 'transparent_bg'], widget=SearchDataGUI(childr…"
      ]
     },
     "metadata": {},
     "output_type": "display_data"
    },
    {
     "data": {
      "application/vnd.jupyter.widget-view+json": {
       "model_id": "439242a279434241a3549c86488d4278",
       "version_major": 2,
       "version_minor": 0
      },
      "text/plain": [
       "VBox(children=(HTML(value='\\n        <div style=\"\\n            padding: 12px 16px;\\n            margin: 10px 0…"
      ]
     },
     "metadata": {},
     "output_type": "display_data"
    }
   ],
   "source": [
    "usr.main()"
   ]
  },
  {
   "cell_type": "code",
   "execution_count": null,
   "id": "f505a967",
   "metadata": {},
   "outputs": [],
   "source": []
  }
 ],
 "metadata": {
  "kernelspec": {
   "display_name": "gee",
   "language": "python",
   "name": "python3"
  },
  "language_info": {
   "codemirror_mode": {
    "name": "ipython",
    "version": 3
   },
   "file_extension": ".py",
   "mimetype": "text/x-python",
   "name": "python",
   "nbconvert_exporter": "python",
   "pygments_lexer": "ipython3",
   "version": "3.11.0"
  }
 },
 "nbformat": 4,
 "nbformat_minor": 5
}
